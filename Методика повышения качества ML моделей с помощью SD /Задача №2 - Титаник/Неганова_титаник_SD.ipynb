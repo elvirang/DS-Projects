{
 "cells": [
  {
   "cell_type": "markdown",
   "metadata": {},
   "source": [
    "### libraries"
   ]
  },
  {
   "cell_type": "code",
   "execution_count": 1,
   "metadata": {},
   "outputs": [],
   "source": [
    "import numpy as np\n",
    "import pandas as pd\n",
    "import pysubgroup as ps\n",
    "from sklearn.model_selection import train_test_split\n",
    "from sklearn.metrics import accuracy_score"
   ]
  },
  {
   "cell_type": "code",
   "execution_count": 2,
   "metadata": {},
   "outputs": [],
   "source": [
    "from sklearn.model_selection import StratifiedKFold, cross_val_score\n",
    "import matplotlib.pyplot as plt\n",
    "from matplotlib.pyplot import figure"
   ]
  },
  {
   "cell_type": "code",
   "execution_count": 3,
   "metadata": {},
   "outputs": [],
   "source": [
    "from sklearn.linear_model import LogisticRegression\n",
    "from sklearn.ensemble import RandomForestClassifier\n",
    "from sklearn.metrics import classification_report, confusion_matrix"
   ]
  },
  {
   "cell_type": "code",
   "execution_count": 4,
   "metadata": {},
   "outputs": [],
   "source": [
    "import warnings\n",
    "warnings.filterwarnings('ignore')"
   ]
  },
  {
   "cell_type": "code",
   "execution_count": 5,
   "metadata": {},
   "outputs": [],
   "source": [
    "from sklearn.preprocessing import StandardScaler"
   ]
  },
  {
   "cell_type": "code",
   "execution_count": 6,
   "metadata": {},
   "outputs": [],
   "source": [
    "import seaborn as sns\n",
    "\n"
   ]
  },
  {
   "cell_type": "markdown",
   "metadata": {},
   "source": [
    "# Data"
   ]
  },
  {
   "cell_type": "markdown",
   "metadata": {},
   "source": [
    "Описание данных: https://www.kaggle.com/c/titanic"
   ]
  },
  {
   "cell_type": "code",
   "execution_count": 7,
   "metadata": {},
   "outputs": [],
   "source": [
    "db = pd.read_csv(\"./data/train.csv\")"
   ]
  },
  {
   "cell_type": "raw",
   "metadata": {
    "scrolled": false
   },
   "source": [
    "db.head()"
   ]
  },
  {
   "cell_type": "code",
   "execution_count": 10,
   "metadata": {},
   "outputs": [
    {
     "data": {
      "text/plain": [
       "549"
      ]
     },
     "execution_count": 10,
     "metadata": {},
     "output_type": "execute_result"
    }
   ],
   "source": [
    "891 - db.Survived.sum()"
   ]
  },
  {
   "cell_type": "code",
   "execution_count": 8,
   "metadata": {},
   "outputs": [
    {
     "name": "stdout",
     "output_type": "stream",
     "text": [
      "<class 'pandas.core.frame.DataFrame'>\n",
      "RangeIndex: 891 entries, 0 to 890\n",
      "Data columns (total 12 columns):\n",
      "PassengerId    891 non-null int64\n",
      "Survived       891 non-null int64\n",
      "Pclass         891 non-null int64\n",
      "Name           891 non-null object\n",
      "Sex            891 non-null object\n",
      "Age            714 non-null float64\n",
      "SibSp          891 non-null int64\n",
      "Parch          891 non-null int64\n",
      "Ticket         891 non-null object\n",
      "Fare           891 non-null float64\n",
      "Cabin          204 non-null object\n",
      "Embarked       889 non-null object\n",
      "dtypes: float64(2), int64(5), object(5)\n",
      "memory usage: 83.6+ KB\n",
      "None\n",
      "       PassengerId    Survived      Pclass         Age       SibSp  \\\n",
      "count   891.000000  891.000000  891.000000  714.000000  891.000000   \n",
      "mean    446.000000    0.383838    2.308642   29.699118    0.523008   \n",
      "std     257.353842    0.486592    0.836071   14.526497    1.102743   \n",
      "min       1.000000    0.000000    1.000000    0.420000    0.000000   \n",
      "25%     223.500000    0.000000    2.000000   20.125000    0.000000   \n",
      "50%     446.000000    0.000000    3.000000   28.000000    0.000000   \n",
      "75%     668.500000    1.000000    3.000000   38.000000    1.000000   \n",
      "max     891.000000    1.000000    3.000000   80.000000    8.000000   \n",
      "\n",
      "            Parch        Fare  \n",
      "count  891.000000  891.000000  \n",
      "mean     0.381594   32.204208  \n",
      "std      0.806057   49.693429  \n",
      "min      0.000000    0.000000  \n",
      "25%      0.000000    7.910400  \n",
      "50%      0.000000   14.454200  \n",
      "75%      0.000000   31.000000  \n",
      "max      6.000000  512.329200  \n",
      "PassengerId      0\n",
      "Survived         0\n",
      "Pclass           0\n",
      "Name             0\n",
      "Sex              0\n",
      "Age            177\n",
      "SibSp            0\n",
      "Parch            0\n",
      "Ticket           0\n",
      "Fare             0\n",
      "Cabin          687\n",
      "Embarked         2\n",
      "dtype: int64\n"
     ]
    }
   ],
   "source": [
    "print(db.info())\n",
    "print(db.describe())\n",
    "print(db.isna().sum())"
   ]
  },
  {
   "cell_type": "code",
   "execution_count": null,
   "metadata": {},
   "outputs": [],
   "source": []
  },
  {
   "cell_type": "code",
   "execution_count": 732,
   "metadata": {},
   "outputs": [],
   "source": [
    "#Minor transformation\n",
    "# Убираем неопределённые значения\n",
    "db.Embarked.fillna(\"S\", inplace=True) # Только 2 таких, обощить их нельзя\n",
    "db[\"IsAgeNA\"] = db.Age.isna() # А тут таких много, вдруг есть закономерность. Сохраним.\n",
    "db.Age.fillna(db.Age.mean(), inplace=True) # Средний возраст, почему бы и нет\n",
    "catVars = [\"PassengerId\",\"Survived\",\"Pclass\",\"Sex\",\"Cabin\",\"Embarked\"]\n",
    "db[catVars] = db[catVars].astype(\"category\")"
   ]
  },
  {
   "cell_type": "code",
   "execution_count": 733,
   "metadata": {},
   "outputs": [
    {
     "data": {
      "text/html": [
       "<div>\n",
       "<style scoped>\n",
       "    .dataframe tbody tr th:only-of-type {\n",
       "        vertical-align: middle;\n",
       "    }\n",
       "\n",
       "    .dataframe tbody tr th {\n",
       "        vertical-align: top;\n",
       "    }\n",
       "\n",
       "    .dataframe thead th {\n",
       "        text-align: right;\n",
       "    }\n",
       "</style>\n",
       "<table border=\"1\" class=\"dataframe\">\n",
       "  <thead>\n",
       "    <tr style=\"text-align: right;\">\n",
       "      <th></th>\n",
       "      <th>PassengerId</th>\n",
       "      <th>Survived</th>\n",
       "      <th>Pclass</th>\n",
       "      <th>Name</th>\n",
       "      <th>Sex</th>\n",
       "      <th>Age</th>\n",
       "      <th>SibSp</th>\n",
       "      <th>Parch</th>\n",
       "      <th>Ticket</th>\n",
       "      <th>Fare</th>\n",
       "      <th>Cabin</th>\n",
       "      <th>Embarked</th>\n",
       "      <th>IsAgeNA</th>\n",
       "    </tr>\n",
       "  </thead>\n",
       "  <tbody>\n",
       "    <tr>\n",
       "      <th>0</th>\n",
       "      <td>1</td>\n",
       "      <td>0</td>\n",
       "      <td>3</td>\n",
       "      <td>Braund, Mr. Owen Harris</td>\n",
       "      <td>male</td>\n",
       "      <td>22.0</td>\n",
       "      <td>1</td>\n",
       "      <td>0</td>\n",
       "      <td>A/5 21171</td>\n",
       "      <td>7.2500</td>\n",
       "      <td>NaN</td>\n",
       "      <td>S</td>\n",
       "      <td>False</td>\n",
       "    </tr>\n",
       "    <tr>\n",
       "      <th>1</th>\n",
       "      <td>2</td>\n",
       "      <td>1</td>\n",
       "      <td>1</td>\n",
       "      <td>Cumings, Mrs. John Bradley (Florence Briggs Th...</td>\n",
       "      <td>female</td>\n",
       "      <td>38.0</td>\n",
       "      <td>1</td>\n",
       "      <td>0</td>\n",
       "      <td>PC 17599</td>\n",
       "      <td>71.2833</td>\n",
       "      <td>C85</td>\n",
       "      <td>C</td>\n",
       "      <td>False</td>\n",
       "    </tr>\n",
       "    <tr>\n",
       "      <th>2</th>\n",
       "      <td>3</td>\n",
       "      <td>1</td>\n",
       "      <td>3</td>\n",
       "      <td>Heikkinen, Miss. Laina</td>\n",
       "      <td>female</td>\n",
       "      <td>26.0</td>\n",
       "      <td>0</td>\n",
       "      <td>0</td>\n",
       "      <td>STON/O2. 3101282</td>\n",
       "      <td>7.9250</td>\n",
       "      <td>NaN</td>\n",
       "      <td>S</td>\n",
       "      <td>False</td>\n",
       "    </tr>\n",
       "    <tr>\n",
       "      <th>3</th>\n",
       "      <td>4</td>\n",
       "      <td>1</td>\n",
       "      <td>1</td>\n",
       "      <td>Futrelle, Mrs. Jacques Heath (Lily May Peel)</td>\n",
       "      <td>female</td>\n",
       "      <td>35.0</td>\n",
       "      <td>1</td>\n",
       "      <td>0</td>\n",
       "      <td>113803</td>\n",
       "      <td>53.1000</td>\n",
       "      <td>C123</td>\n",
       "      <td>S</td>\n",
       "      <td>False</td>\n",
       "    </tr>\n",
       "    <tr>\n",
       "      <th>4</th>\n",
       "      <td>5</td>\n",
       "      <td>0</td>\n",
       "      <td>3</td>\n",
       "      <td>Allen, Mr. William Henry</td>\n",
       "      <td>male</td>\n",
       "      <td>35.0</td>\n",
       "      <td>0</td>\n",
       "      <td>0</td>\n",
       "      <td>373450</td>\n",
       "      <td>8.0500</td>\n",
       "      <td>NaN</td>\n",
       "      <td>S</td>\n",
       "      <td>False</td>\n",
       "    </tr>\n",
       "  </tbody>\n",
       "</table>\n",
       "</div>"
      ],
      "text/plain": [
       "  PassengerId Survived Pclass  \\\n",
       "0           1        0      3   \n",
       "1           2        1      1   \n",
       "2           3        1      3   \n",
       "3           4        1      1   \n",
       "4           5        0      3   \n",
       "\n",
       "                                                Name     Sex   Age  SibSp  \\\n",
       "0                            Braund, Mr. Owen Harris    male  22.0      1   \n",
       "1  Cumings, Mrs. John Bradley (Florence Briggs Th...  female  38.0      1   \n",
       "2                             Heikkinen, Miss. Laina  female  26.0      0   \n",
       "3       Futrelle, Mrs. Jacques Heath (Lily May Peel)  female  35.0      1   \n",
       "4                           Allen, Mr. William Henry    male  35.0      0   \n",
       "\n",
       "   Parch            Ticket     Fare Cabin Embarked  IsAgeNA  \n",
       "0      0         A/5 21171   7.2500   NaN        S    False  \n",
       "1      0          PC 17599  71.2833   C85        C    False  \n",
       "2      0  STON/O2. 3101282   7.9250   NaN        S    False  \n",
       "3      0            113803  53.1000  C123        S    False  \n",
       "4      0            373450   8.0500   NaN        S    False  "
      ]
     },
     "execution_count": 733,
     "metadata": {},
     "output_type": "execute_result"
    }
   ],
   "source": [
    "db.head()"
   ]
  },
  {
   "cell_type": "code",
   "execution_count": 734,
   "metadata": {},
   "outputs": [
    {
     "name": "stdout",
     "output_type": "stream",
     "text": [
      "<class 'pandas.core.frame.DataFrame'>\n",
      "RangeIndex: 891 entries, 0 to 890\n",
      "Data columns (total 13 columns):\n",
      "PassengerId    891 non-null category\n",
      "Survived       891 non-null category\n",
      "Pclass         891 non-null category\n",
      "Name           891 non-null object\n",
      "Sex            891 non-null category\n",
      "Age            891 non-null float64\n",
      "SibSp          891 non-null int64\n",
      "Parch          891 non-null int64\n",
      "Ticket         891 non-null object\n",
      "Fare           891 non-null float64\n",
      "Cabin          204 non-null category\n",
      "Embarked       891 non-null category\n",
      "IsAgeNA        891 non-null bool\n",
      "dtypes: bool(1), category(6), float64(2), int64(2), object(2)\n",
      "memory usage: 103.2+ KB\n"
     ]
    }
   ],
   "source": [
    "db.info()"
   ]
  },
  {
   "cell_type": "markdown",
   "metadata": {},
   "source": [
    "### Constants and variables"
   ]
  },
  {
   "cell_type": "code",
   "execution_count": 817,
   "metadata": {},
   "outputs": [],
   "source": [
    "RANDOM = 42\n",
    "\n",
    "cv_Num=20 # Количество итераций (случайных сплитов на train-test) для кросс валидации\n",
    "cv_prop = 0.5 # Пропорция всех наблюдений, попадающих в обучающую выборку при кросс-валидации"
   ]
  },
  {
   "cell_type": "code",
   "execution_count": 736,
   "metadata": {},
   "outputs": [],
   "source": [
    "result = pd.DataFrame(None) #здесь будут результаты кросс-валидации всех моделей"
   ]
  },
  {
   "cell_type": "markdown",
   "metadata": {},
   "source": [
    "### Functions for prediction and cross-validation"
   ]
  },
  {
   "cell_type": "markdown",
   "metadata": {},
   "source": [
    "Обозначим функции для обучения и предсказания:"
   ]
  },
  {
   "cell_type": "code",
   "execution_count": 1098,
   "metadata": {},
   "outputs": [],
   "source": [
    "# Please set dummy_na=True when you call pd.get_dummies if you want to use this solution to invert \n",
    "#the \"dummification\" and your data contains any NaNs. Setting dummy_na=True will always add a \"nan\" column,\n",
    "#even if that column is all 0s\n",
    "\n",
    "def TrainModel(X, y):\n",
    "    scaler = StandardScaler()\n",
    "    X_ohe = pd.get_dummies(X, dummy_na=True)\n",
    "    X_ohe = scaler.fit_transform(X_ohe)\n",
    "    return LogisticRegression(random_state=0,solver=\"lbfgs\").fit(X_ohe,y), scaler\n",
    "def PredictByModel(m, X, scaler):\n",
    "    X_ohe = pd.get_dummies(X,dummy_na=True)\n",
    "    X_ohe = scaler.transform(X_ohe)\n",
    "    return m.predict(X_ohe)"
   ]
  },
  {
   "cell_type": "code",
   "execution_count": 738,
   "metadata": {},
   "outputs": [],
   "source": [
    "def cross_val(cv_Num, db, cv_prop, name, result, columns_to_drop):  \n",
    "    temp_acc = []\n",
    "    temp_coefs = []\n",
    "    for i in range(cv_Num): #цикл многократного разбиения на трейн и тест\n",
    "        \n",
    "        # Разбиение на train-test\n",
    "        X_train, X_test, y_train, y_test = train_test_split(db.drop(columns = columns_to_drop), \n",
    "                                                                        db.Survived, test_size=cv_prop, )\n",
    "            \n",
    "        model, scaler = TrainModel(X_train, y_train)\n",
    "        \n",
    "        # Предсказание\n",
    "        predictions = PredictByModel(model, X_test, scaler)\n",
    "\n",
    "        # Считаем качество модели\n",
    "        quality = accuracy_score(y_test, predictions)\n",
    "        #Сохраняем результат\n",
    "        temp_acc.append(quality)\n",
    "        temp_coefs.append(model.coef_)\n",
    "\n",
    "    #переменная full показывает, нужно ли возвращать X_test, y_test, predictions\n",
    "    result[name] = temp_acc\n",
    "    coefs = np.mean(np.array(temp_coefs), axis=0)\n",
    "    \n",
    "    #Переменные тест и трейн нужны для последующего применения SD на них\n",
    "    return {'Accuracy': result, 'X_test': X_test, 'y_test': y_test, 'Preds': predictions, 'Coefs': coefs}"
   ]
  },
  {
   "cell_type": "markdown",
   "metadata": {},
   "source": [
    "# Base model"
   ]
  },
  {
   "cell_type": "code",
   "execution_count": 739,
   "metadata": {},
   "outputs": [],
   "source": [
    "db_initial = db.copy()\n",
    "columns_to_drop = ['Survived','PassengerId',  'Name', 'Ticket',  'Cabin'] "
   ]
  },
  {
   "cell_type": "code",
   "execution_count": 740,
   "metadata": {},
   "outputs": [],
   "source": [
    "CrossVal_result = cross_val(cv_Num, db_initial, cv_prop, 'BaseModel', result, columns_to_drop)"
   ]
  },
  {
   "cell_type": "code",
   "execution_count": 741,
   "metadata": {},
   "outputs": [
    {
     "data": {
      "text/html": [
       "<div>\n",
       "<style scoped>\n",
       "    .dataframe tbody tr th:only-of-type {\n",
       "        vertical-align: middle;\n",
       "    }\n",
       "\n",
       "    .dataframe tbody tr th {\n",
       "        vertical-align: top;\n",
       "    }\n",
       "\n",
       "    .dataframe thead th {\n",
       "        text-align: right;\n",
       "    }\n",
       "</style>\n",
       "<table border=\"1\" class=\"dataframe\">\n",
       "  <thead>\n",
       "    <tr style=\"text-align: right;\">\n",
       "      <th></th>\n",
       "      <th>BaseModel</th>\n",
       "    </tr>\n",
       "  </thead>\n",
       "  <tbody>\n",
       "    <tr>\n",
       "      <th>0</th>\n",
       "      <td>0.773543</td>\n",
       "    </tr>\n",
       "    <tr>\n",
       "      <th>1</th>\n",
       "      <td>0.807175</td>\n",
       "    </tr>\n",
       "    <tr>\n",
       "      <th>2</th>\n",
       "      <td>0.762332</td>\n",
       "    </tr>\n",
       "    <tr>\n",
       "      <th>3</th>\n",
       "      <td>0.802691</td>\n",
       "    </tr>\n",
       "    <tr>\n",
       "      <th>4</th>\n",
       "      <td>0.793722</td>\n",
       "    </tr>\n",
       "    <tr>\n",
       "      <th>5</th>\n",
       "      <td>0.793722</td>\n",
       "    </tr>\n",
       "    <tr>\n",
       "      <th>6</th>\n",
       "      <td>0.784753</td>\n",
       "    </tr>\n",
       "    <tr>\n",
       "      <th>7</th>\n",
       "      <td>0.773543</td>\n",
       "    </tr>\n",
       "    <tr>\n",
       "      <th>8</th>\n",
       "      <td>0.800448</td>\n",
       "    </tr>\n",
       "    <tr>\n",
       "      <th>9</th>\n",
       "      <td>0.791480</td>\n",
       "    </tr>\n",
       "    <tr>\n",
       "      <th>10</th>\n",
       "      <td>0.780269</td>\n",
       "    </tr>\n",
       "    <tr>\n",
       "      <th>11</th>\n",
       "      <td>0.795964</td>\n",
       "    </tr>\n",
       "    <tr>\n",
       "      <th>12</th>\n",
       "      <td>0.822870</td>\n",
       "    </tr>\n",
       "    <tr>\n",
       "      <th>13</th>\n",
       "      <td>0.789238</td>\n",
       "    </tr>\n",
       "    <tr>\n",
       "      <th>14</th>\n",
       "      <td>0.789238</td>\n",
       "    </tr>\n",
       "    <tr>\n",
       "      <th>15</th>\n",
       "      <td>0.816143</td>\n",
       "    </tr>\n",
       "    <tr>\n",
       "      <th>16</th>\n",
       "      <td>0.800448</td>\n",
       "    </tr>\n",
       "    <tr>\n",
       "      <th>17</th>\n",
       "      <td>0.802691</td>\n",
       "    </tr>\n",
       "    <tr>\n",
       "      <th>18</th>\n",
       "      <td>0.802691</td>\n",
       "    </tr>\n",
       "    <tr>\n",
       "      <th>19</th>\n",
       "      <td>0.791480</td>\n",
       "    </tr>\n",
       "  </tbody>\n",
       "</table>\n",
       "</div>"
      ],
      "text/plain": [
       "    BaseModel\n",
       "0    0.773543\n",
       "1    0.807175\n",
       "2    0.762332\n",
       "3    0.802691\n",
       "4    0.793722\n",
       "5    0.793722\n",
       "6    0.784753\n",
       "7    0.773543\n",
       "8    0.800448\n",
       "9    0.791480\n",
       "10   0.780269\n",
       "11   0.795964\n",
       "12   0.822870\n",
       "13   0.789238\n",
       "14   0.789238\n",
       "15   0.816143\n",
       "16   0.800448\n",
       "17   0.802691\n",
       "18   0.802691\n",
       "19   0.791480"
      ]
     },
     "execution_count": 741,
     "metadata": {},
     "output_type": "execute_result"
    }
   ],
   "source": [
    "CrossVal_result['Accuracy']"
   ]
  },
  {
   "cell_type": "code",
   "execution_count": 742,
   "metadata": {},
   "outputs": [
    {
     "data": {
      "text/plain": [
       "<matplotlib.axes._subplots.AxesSubplot at 0x1a4613ccf8>"
      ]
     },
     "execution_count": 742,
     "metadata": {},
     "output_type": "execute_result"
    },
    {
     "data": {
      "image/png": "[encoded data removed]",
      "text/plain": [
       "<Figure size 432x288 with 1 Axes>"
      ]
     },
     "metadata": {
      "needs_background": "light"
     },
     "output_type": "display_data"
    }
   ],
   "source": [
    "result.boxplot()"
   ]
  },
  {
   "cell_type": "markdown",
   "metadata": {},
   "source": [
    "# Feature engineering"
   ]
  },
  {
   "cell_type": "code",
   "execution_count": 743,
   "metadata": {},
   "outputs": [],
   "source": [
    "# Вдруг есть закономерность у тех, у кого было больше 1 каюты. Сохраним.\n",
    "db[\"SeveralCabins\"] = [x.find(\" \") > -1 if type(x) is not float else np.nan for x in db.Cabin ] "
   ]
  },
  {
   "cell_type": "code",
   "execution_count": 744,
   "metadata": {},
   "outputs": [],
   "source": [
    "db[\"Deck\"] = [x[0] if type(x) is not float else np.nan for x in db.Cabin ] "
   ]
  },
  {
   "cell_type": "code",
   "execution_count": 745,
   "metadata": {},
   "outputs": [],
   "source": [
    "db[\"CabinNum\"] = [x[1:].split(\" \")[0] if type(x) is not float else np.nan for x in db.Cabin ] "
   ]
  },
  {
   "cell_type": "markdown",
   "metadata": {},
   "source": [
    "В 4 строках (75, 128, 699, 715) кабина указана сначала \"F\" - номер палубы, потом новая буква и цифра каюты.\n",
    "Цифры кают не считались"
   ]
  },
  {
   "cell_type": "raw",
   "metadata": {},
   "source": [
    "db.iloc[[75, 128, 699, 715]]"
   ]
  },
  {
   "cell_type": "markdown",
   "metadata": {},
   "source": [
    "Добавим цифры кают вручную:"
   ]
  },
  {
   "cell_type": "code",
   "execution_count": 746,
   "metadata": {},
   "outputs": [],
   "source": [
    "listCabinNum = list(db.CabinNum)\n",
    "listCabinNum[75] = '73'\n",
    "listCabinNum[128] = '69'\n",
    "listCabinNum[699] = '63'\n",
    "listCabinNum[715] = '73'\n",
    "new_df = pd.DataFrame({'CabinNum': listCabinNum})\n",
    "db.update(new_df)"
   ]
  },
  {
   "cell_type": "raw",
   "metadata": {},
   "source": [
    "db.iloc[[75, 128, 699, 715]]"
   ]
  },
  {
   "cell_type": "markdown",
   "metadata": {},
   "source": [
    "В нескольких строках указана только палуба без каюты:"
   ]
  },
  {
   "cell_type": "raw",
   "metadata": {},
   "source": [
    "db.loc[db.CabinNum == '']"
   ]
  },
  {
   "cell_type": "markdown",
   "metadata": {},
   "source": [
    "Добавим вместо каюты '' nan:"
   ]
  },
  {
   "cell_type": "code",
   "execution_count": 747,
   "metadata": {},
   "outputs": [],
   "source": [
    "db.CabinNum = db['CabinNum'].replace('', np.nan)"
   ]
  },
  {
   "cell_type": "raw",
   "metadata": {},
   "source": [
    "db.iloc[[292, 327, 339, 473]]"
   ]
  },
  {
   "cell_type": "markdown",
   "metadata": {},
   "source": [
    "В зависимости от того, на каком борту находится каюта (четные - левый, нечетные - правый), добавим новый признак.\n",
    "Необходимо учитывать, что на палубе Е все каюты, кроме 121 находятся на правом борту\n",
    "(Информация полученая с карт палуб Титаника: https://www.encyclopedia-titanica.org/titanic-deckplans/f-deck.html)"
   ]
  },
  {
   "cell_type": "code",
   "execution_count": 748,
   "metadata": {},
   "outputs": [],
   "source": [
    "g = lambda x: \"Left\" if int(x)%2==0 else \"Right\""
   ]
  },
  {
   "cell_type": "code",
   "execution_count": 749,
   "metadata": {},
   "outputs": [],
   "source": [
    "db['Side'] = [g(x) if type(x) is not float else np.nan for x in db.CabinNum] "
   ]
  },
  {
   "cell_type": "markdown",
   "metadata": {},
   "source": [
    "На палубе E все кабины с правого борта, кроме кабины 121 (индекс строки 752):"
   ]
  },
  {
   "cell_type": "code",
   "execution_count": 750,
   "metadata": {},
   "outputs": [],
   "source": [
    "for i in db.loc[db.Deck == 'E'].index:\n",
    "    db.at[i, 'Side'] = 'Right'\n",
    "db.at[751, 'Side'] = 'Left'\n",
    "db.at[823, 'Side'] = 'Left'"
   ]
  },
  {
   "cell_type": "markdown",
   "metadata": {},
   "source": [
    "Добавим признак, показывающий, кабина была в носовой, центральной или кормовой части корабля. (Известно, что сначала затонул нос, потом корабль сломался пополам, потом затонула корма). При этом, судя по схемам, расположение кабин на разных палубах было разным. То есть нельзя просто сказать, что кабины 1-50 это нос, 50-70 середина, 70-100 корма."
   ]
  },
  {
   "cell_type": "code",
   "execution_count": 751,
   "metadata": {},
   "outputs": [],
   "source": [
    "for i in range(len(db)):\n",
    "    deckNum = db.loc[i, :].Deck\n",
    "    cabinNum = db.loc[i, :].CabinNum\n",
    "    if cabinNum is not np.nan :\n",
    "        cabinNum = int(cabinNum)\n",
    "        if deckNum == 'A' :\n",
    "            if cabinNum < 36 : db.at[i, 'Part'] = 'Bow'\n",
    "            elif cabinNum > 35 : db.at[i, 'Part'] = 'Stern'\n",
    "        elif deckNum == 'B':\n",
    "            if cabinNum < 51 : db.at[i, 'Part'] = 'Bow'\n",
    "            elif cabinNum > 50 : db.at[i, 'Part'] = 'Middle'\n",
    "        elif deckNum == 'C':\n",
    "            if cabinNum < 61 : db.at[i, 'Part'] = 'Bow'\n",
    "            elif cabinNum > 60 : db.at[i, 'Part'] = 'Middle'\n",
    "        elif deckNum == 'D':\n",
    "            if cabinNum < 51 : db.at[i, 'Part'] = 'Bow'\n",
    "            elif cabinNum > 50 : db.at[i, 'Part'] = 'Stern'\n",
    "        elif deckNum == 'E':\n",
    "            if cabinNum < 27 : db.at[i, 'Part'] = 'Bow'\n",
    "            elif cabinNum > 26 & cabinNum < 71 : db.at[i, 'Part'] = 'Middle'\n",
    "            elif cabinNum > 70 : db.at[i, 'Part'] = 'Stern'  \n",
    "        elif deckNum == 'F':\n",
    "            if cabinNum < 34 : db.at[i, 'Part'] = 'Stern'\n",
    "            elif cabinNum > 33 : db.at[i, 'Part'] = 'Bow'\n",
    "        elif deckNum == 'G':\n",
    "            db.at[i, 'Part'] = 'Stern'\n",
    "#    elif deckNum is float:\n",
    "#        pass"
   ]
  },
  {
   "cell_type": "code",
   "execution_count": 752,
   "metadata": {},
   "outputs": [],
   "source": [
    "db.SeveralCabins = db.SeveralCabins.astype(\"bool\")\n",
    "db.Deck = db.Deck.astype(\"category\")\n",
    "db.CabinNum = db.CabinNum.astype(\"float64\")\n",
    "db.Side = db.Side.astype(\"category\")\n",
    "db.Part = db.Part.astype(\"category\")"
   ]
  },
  {
   "cell_type": "markdown",
   "metadata": {},
   "source": [
    "Также историческим фактом является то, что пассажиры третьего класса разделялись по половому признаку - каюты для мужчин были на носу корабля, женщин - на корме\n",
    "\n",
    "В следующем источнике сказано, что так разелялись только не семейные мужчины и женщины\n",
    "https://books.google.ru/books?id=zR6PDwAAQBAJ&pg=PT278&lpg=PT278&dq=каюты+титаника+разделение+по+полу&source=bl&ots=Gz_8aZsRe6&sig=ACfU3U3OhOhbaNVkfF-dymRzT3q76FmkqQ&hl=ru&sa=X&ved=2ahUKEwj8toiGwaHpAhUc6aYKHXSDDYUQ6AEwEnoECAoQAQ#v=onepage&q=каюты%20титаника%20разделение%20по%20полу&f=false\n",
    "\n",
    "В других же источниках приводтится информация о разделении по половому признаку даже семей\n",
    "https://ru.wikipedia.org/wiki/Гудвин,_Сидней_Лесли"
   ]
  },
  {
   "cell_type": "code",
   "execution_count": 753,
   "metadata": {},
   "outputs": [],
   "source": [
    "for i in range(len(db)):\n",
    "    Sex = str(db.loc[i, :].Sex)\n",
    "    Class = int(db.loc[i, :].Pclass)\n",
    "    Age = float(db.loc[i, :].Age)\n",
    "    Part = str(db.loc[i, :].Part)\n",
    "    if Class == 3 :\n",
    "        if Part != np.nan :\n",
    "            if Sex == 'female' : db.at[i, 'Part'] = 'Stern' #женщин селили в корме\n",
    "           # маленькие дети- мальчики скорее всего были с матерями в корме (врядли у них были няни, т.к. третий класс - это бедные иммигранты)\n",
    "            elif Age < 5 : db.at[i, 'Part'] = 'Stern'\n",
    "            #мальчики постарше и мужчины были в носовой части\n",
    "            else: db.at[i, 'Part'] = 'Bow'\n",
    "        "
   ]
  },
  {
   "cell_type": "code",
   "execution_count": 754,
   "metadata": {
    "scrolled": false
   },
   "outputs": [],
   "source": [
    "Train = db.loc[db.Cabin.notna()].drop(columns = ['PassengerId', 'Survived', 'Name', 'Ticket', 'Cabin', 'SeveralCabins', 'Side', 'Part'])\n",
    "Predict = db.loc[~db.Cabin.notna()].drop(columns = ['PassengerId', 'Survived', 'Name', 'Ticket', 'Cabin', 'SeveralCabins', 'Side', 'Part'])"
   ]
  },
  {
   "cell_type": "code",
   "execution_count": 755,
   "metadata": {
    "scrolled": false
   },
   "outputs": [
    {
     "data": {
      "text/html": [
       "<div>\n",
       "<style scoped>\n",
       "    .dataframe tbody tr th:only-of-type {\n",
       "        vertical-align: middle;\n",
       "    }\n",
       "\n",
       "    .dataframe tbody tr th {\n",
       "        vertical-align: top;\n",
       "    }\n",
       "\n",
       "    .dataframe thead th {\n",
       "        text-align: right;\n",
       "    }\n",
       "</style>\n",
       "<table border=\"1\" class=\"dataframe\">\n",
       "  <thead>\n",
       "    <tr style=\"text-align: right;\">\n",
       "      <th></th>\n",
       "      <th>PassengerId</th>\n",
       "      <th>Survived</th>\n",
       "      <th>Pclass</th>\n",
       "      <th>Name</th>\n",
       "      <th>Sex</th>\n",
       "      <th>Age</th>\n",
       "      <th>SibSp</th>\n",
       "      <th>Parch</th>\n",
       "      <th>Ticket</th>\n",
       "      <th>Fare</th>\n",
       "      <th>Cabin</th>\n",
       "      <th>Embarked</th>\n",
       "      <th>IsAgeNA</th>\n",
       "      <th>SeveralCabins</th>\n",
       "      <th>Deck</th>\n",
       "      <th>CabinNum</th>\n",
       "      <th>Side</th>\n",
       "      <th>Part</th>\n",
       "    </tr>\n",
       "  </thead>\n",
       "  <tbody>\n",
       "    <tr>\n",
       "      <th>292</th>\n",
       "      <td>293</td>\n",
       "      <td>0</td>\n",
       "      <td>2</td>\n",
       "      <td>Levy, Mr. Rene Jacques</td>\n",
       "      <td>male</td>\n",
       "      <td>36.0</td>\n",
       "      <td>0</td>\n",
       "      <td>0</td>\n",
       "      <td>SC/Paris 2163</td>\n",
       "      <td>12.8750</td>\n",
       "      <td>D</td>\n",
       "      <td>C</td>\n",
       "      <td>False</td>\n",
       "      <td>False</td>\n",
       "      <td>D</td>\n",
       "      <td>NaN</td>\n",
       "      <td>NaN</td>\n",
       "      <td>NaN</td>\n",
       "    </tr>\n",
       "    <tr>\n",
       "      <th>327</th>\n",
       "      <td>328</td>\n",
       "      <td>1</td>\n",
       "      <td>2</td>\n",
       "      <td>Ball, Mrs. (Ada E Hall)</td>\n",
       "      <td>female</td>\n",
       "      <td>36.0</td>\n",
       "      <td>0</td>\n",
       "      <td>0</td>\n",
       "      <td>28551</td>\n",
       "      <td>13.0000</td>\n",
       "      <td>D</td>\n",
       "      <td>S</td>\n",
       "      <td>False</td>\n",
       "      <td>False</td>\n",
       "      <td>D</td>\n",
       "      <td>NaN</td>\n",
       "      <td>NaN</td>\n",
       "      <td>NaN</td>\n",
       "    </tr>\n",
       "    <tr>\n",
       "      <th>339</th>\n",
       "      <td>340</td>\n",
       "      <td>0</td>\n",
       "      <td>1</td>\n",
       "      <td>Blackwell, Mr. Stephen Weart</td>\n",
       "      <td>male</td>\n",
       "      <td>45.0</td>\n",
       "      <td>0</td>\n",
       "      <td>0</td>\n",
       "      <td>113784</td>\n",
       "      <td>35.5000</td>\n",
       "      <td>T</td>\n",
       "      <td>S</td>\n",
       "      <td>False</td>\n",
       "      <td>False</td>\n",
       "      <td>T</td>\n",
       "      <td>NaN</td>\n",
       "      <td>NaN</td>\n",
       "      <td>NaN</td>\n",
       "    </tr>\n",
       "    <tr>\n",
       "      <th>473</th>\n",
       "      <td>474</td>\n",
       "      <td>1</td>\n",
       "      <td>2</td>\n",
       "      <td>Jerwan, Mrs. Amin S (Marie Marthe Thuillard)</td>\n",
       "      <td>female</td>\n",
       "      <td>23.0</td>\n",
       "      <td>0</td>\n",
       "      <td>0</td>\n",
       "      <td>SC/AH Basle 541</td>\n",
       "      <td>13.7917</td>\n",
       "      <td>D</td>\n",
       "      <td>C</td>\n",
       "      <td>False</td>\n",
       "      <td>False</td>\n",
       "      <td>D</td>\n",
       "      <td>NaN</td>\n",
       "      <td>NaN</td>\n",
       "      <td>NaN</td>\n",
       "    </tr>\n",
       "  </tbody>\n",
       "</table>\n",
       "</div>"
      ],
      "text/plain": [
       "    PassengerId Survived Pclass                                          Name  \\\n",
       "292         293        0      2                        Levy, Mr. Rene Jacques   \n",
       "327         328        1      2                       Ball, Mrs. (Ada E Hall)   \n",
       "339         340        0      1                  Blackwell, Mr. Stephen Weart   \n",
       "473         474        1      2  Jerwan, Mrs. Amin S (Marie Marthe Thuillard)   \n",
       "\n",
       "        Sex   Age  SibSp  Parch           Ticket     Fare Cabin Embarked  \\\n",
       "292    male  36.0      0      0    SC/Paris 2163  12.8750     D        C   \n",
       "327  female  36.0      0      0            28551  13.0000     D        S   \n",
       "339    male  45.0      0      0           113784  35.5000     T        S   \n",
       "473  female  23.0      0      0  SC/AH Basle 541  13.7917     D        C   \n",
       "\n",
       "     IsAgeNA  SeveralCabins Deck  CabinNum Side Part  \n",
       "292    False          False    D       NaN  NaN  NaN  \n",
       "327    False          False    D       NaN  NaN  NaN  \n",
       "339    False          False    T       NaN  NaN  NaN  \n",
       "473    False          False    D       NaN  NaN  NaN  "
      ]
     },
     "execution_count": 755,
     "metadata": {},
     "output_type": "execute_result"
    }
   ],
   "source": [
    "db.loc[db.Cabin.notna()].loc[db.CabinNum.isna()]"
   ]
  },
  {
   "cell_type": "code",
   "execution_count": 756,
   "metadata": {},
   "outputs": [
    {
     "name": "stdout",
     "output_type": "stream",
     "text": [
      "(204, 10)\n",
      "(687, 10)\n"
     ]
    }
   ],
   "source": [
    "print(Train.shape)\n",
    "print(Predict.shape)"
   ]
  },
  {
   "cell_type": "code",
   "execution_count": 757,
   "metadata": {},
   "outputs": [
    {
     "data": {
      "text/html": [
       "<div>\n",
       "<style scoped>\n",
       "    .dataframe tbody tr th:only-of-type {\n",
       "        vertical-align: middle;\n",
       "    }\n",
       "\n",
       "    .dataframe tbody tr th {\n",
       "        vertical-align: top;\n",
       "    }\n",
       "\n",
       "    .dataframe thead th {\n",
       "        text-align: right;\n",
       "    }\n",
       "</style>\n",
       "<table border=\"1\" class=\"dataframe\">\n",
       "  <thead>\n",
       "    <tr style=\"text-align: right;\">\n",
       "      <th></th>\n",
       "      <th>Pclass</th>\n",
       "      <th>Sex</th>\n",
       "      <th>Age</th>\n",
       "      <th>SibSp</th>\n",
       "      <th>Parch</th>\n",
       "      <th>Fare</th>\n",
       "      <th>Embarked</th>\n",
       "      <th>IsAgeNA</th>\n",
       "      <th>Deck</th>\n",
       "      <th>CabinNum</th>\n",
       "    </tr>\n",
       "  </thead>\n",
       "  <tbody>\n",
       "    <tr>\n",
       "      <th>1</th>\n",
       "      <td>1</td>\n",
       "      <td>female</td>\n",
       "      <td>38.0</td>\n",
       "      <td>1</td>\n",
       "      <td>0</td>\n",
       "      <td>71.2833</td>\n",
       "      <td>C</td>\n",
       "      <td>False</td>\n",
       "      <td>C</td>\n",
       "      <td>85.0</td>\n",
       "    </tr>\n",
       "    <tr>\n",
       "      <th>3</th>\n",
       "      <td>1</td>\n",
       "      <td>female</td>\n",
       "      <td>35.0</td>\n",
       "      <td>1</td>\n",
       "      <td>0</td>\n",
       "      <td>53.1000</td>\n",
       "      <td>S</td>\n",
       "      <td>False</td>\n",
       "      <td>C</td>\n",
       "      <td>123.0</td>\n",
       "    </tr>\n",
       "    <tr>\n",
       "      <th>6</th>\n",
       "      <td>1</td>\n",
       "      <td>male</td>\n",
       "      <td>54.0</td>\n",
       "      <td>0</td>\n",
       "      <td>0</td>\n",
       "      <td>51.8625</td>\n",
       "      <td>S</td>\n",
       "      <td>False</td>\n",
       "      <td>E</td>\n",
       "      <td>46.0</td>\n",
       "    </tr>\n",
       "    <tr>\n",
       "      <th>10</th>\n",
       "      <td>3</td>\n",
       "      <td>female</td>\n",
       "      <td>4.0</td>\n",
       "      <td>1</td>\n",
       "      <td>1</td>\n",
       "      <td>16.7000</td>\n",
       "      <td>S</td>\n",
       "      <td>False</td>\n",
       "      <td>G</td>\n",
       "      <td>6.0</td>\n",
       "    </tr>\n",
       "    <tr>\n",
       "      <th>11</th>\n",
       "      <td>1</td>\n",
       "      <td>female</td>\n",
       "      <td>58.0</td>\n",
       "      <td>0</td>\n",
       "      <td>0</td>\n",
       "      <td>26.5500</td>\n",
       "      <td>S</td>\n",
       "      <td>False</td>\n",
       "      <td>C</td>\n",
       "      <td>103.0</td>\n",
       "    </tr>\n",
       "  </tbody>\n",
       "</table>\n",
       "</div>"
      ],
      "text/plain": [
       "   Pclass     Sex   Age  SibSp  Parch     Fare Embarked  IsAgeNA Deck  \\\n",
       "1       1  female  38.0      1      0  71.2833        C    False    C   \n",
       "3       1  female  35.0      1      0  53.1000        S    False    C   \n",
       "6       1    male  54.0      0      0  51.8625        S    False    E   \n",
       "10      3  female   4.0      1      1  16.7000        S    False    G   \n",
       "11      1  female  58.0      0      0  26.5500        S    False    C   \n",
       "\n",
       "    CabinNum  \n",
       "1       85.0  \n",
       "3      123.0  \n",
       "6       46.0  \n",
       "10       6.0  \n",
       "11     103.0  "
      ]
     },
     "execution_count": 757,
     "metadata": {},
     "output_type": "execute_result"
    }
   ],
   "source": [
    "Train.head()"
   ]
  },
  {
   "cell_type": "code",
   "execution_count": 758,
   "metadata": {},
   "outputs": [],
   "source": [
    "ohe_Train = pd.get_dummies(Train, columns = ['Pclass', 'Sex', 'Embarked'], dummy_na=True)"
   ]
  },
  {
   "cell_type": "code",
   "execution_count": 759,
   "metadata": {},
   "outputs": [],
   "source": [
    "ohe_Predict = pd.get_dummies(Predict, columns = ['Pclass', 'Sex', 'Embarked'],dummy_na=True)"
   ]
  },
  {
   "cell_type": "markdown",
   "metadata": {},
   "source": [
    "Обучим модель предсказывать палубу:"
   ]
  },
  {
   "cell_type": "code",
   "execution_count": 760,
   "metadata": {},
   "outputs": [
    {
     "name": "stdout",
     "output_type": "stream",
     "text": [
      "CV accuracy score: 35.57%\n"
     ]
    }
   ],
   "source": [
    "from sklearn.model_selection import StratifiedKFold, cross_val_score\n",
    "from imblearn.over_sampling import SMOTE\n",
    "#провалидируем классификатор с помощью кросс-валидации на 5 фолдах с расчетом среднего значения точности\n",
    "SKF = StratifiedKFold(n_splits = 5,shuffle = True,random_state = 40)\n",
    "Res = cross_val_score(RandomForestClassifier(),ohe_Train.drop(columns = ['Deck', 'CabinNum']), ohe_Train[['Deck']].values.ravel(),cv = SKF)\n",
    "print(\"CV accuracy score: {:.2f}%\".format(Res.mean()*100))"
   ]
  },
  {
   "cell_type": "markdown",
   "metadata": {},
   "source": [
    "Устроит ли точность предсказания палубы? Пока оставим."
   ]
  },
  {
   "cell_type": "code",
   "execution_count": 761,
   "metadata": {},
   "outputs": [],
   "source": [
    "RANDOM_SEED = 42\n",
    "def TrainRFC(X, Y, random = RANDOM_SEED) :\n",
    "    ohe_X = pd.get_dummies(X, columns = ['Pclass', 'Sex', 'Embarked'], dummy_na=True)\n",
    "    Model_RFC = RandomForestClassifier(random_state = random, n_jobs = -1)\n",
    "    return Model_RFC.fit(ohe_X,Y)"
   ]
  },
  {
   "cell_type": "code",
   "execution_count": 762,
   "metadata": {},
   "outputs": [],
   "source": [
    "def PredictByRFC(m, X):\n",
    "    X_ohe = pd.get_dummies(X,dummy_na=True)\n",
    "    return m.predict(X_ohe)"
   ]
  },
  {
   "cell_type": "code",
   "execution_count": 763,
   "metadata": {},
   "outputs": [],
   "source": [
    "Model_RFC = TrainRFC(Train.drop(columns = ['Deck', 'CabinNum']), Train[['Deck']].values.ravel())\n",
    "pred_rf = PredictByRFC(Model_RFC, Predict.drop(columns = ['Deck', 'CabinNum']))"
   ]
  },
  {
   "cell_type": "code",
   "execution_count": 764,
   "metadata": {},
   "outputs": [],
   "source": [
    "Predict.Deck = pd.Series(pred_rf, index = Predict.index).astype(\"category\")"
   ]
  },
  {
   "cell_type": "markdown",
   "metadata": {},
   "source": [
    "Обучим модель предсказывать каюту:\n"
   ]
  },
  {
   "cell_type": "code",
   "execution_count": 765,
   "metadata": {},
   "outputs": [],
   "source": [
    "pass"
   ]
  },
  {
   "cell_type": "markdown",
   "metadata": {},
   "source": [
    "### Предсказание после добавления признаков"
   ]
  },
  {
   "cell_type": "markdown",
   "metadata": {},
   "source": [
    "Вернем к Predict и Train колонки, исключенные перед предсказанием палубы:"
   ]
  },
  {
   "cell_type": "code",
   "execution_count": 766,
   "metadata": {},
   "outputs": [],
   "source": [
    "#train part with dummies and previously dropped columns 'Survived', 'SeveralCabins', 'Side', 'Part'\n",
    "first_part = pd.concat([Train, db.loc[db.Cabin.notna()][['Survived', 'SeveralCabins', 'Side', 'Part']]], axis = 1)\n",
    "#predict part with dummies and previously dropped columns 'Survived', 'SeveralCabins', 'Side', 'Part'\n",
    "second_part = pd.concat([Predict, db.loc[~db.Cabin.notna()][['Survived', 'SeveralCabins', 'Side', 'Part']]], axis = 1) "
   ]
  },
  {
   "cell_type": "code",
   "execution_count": 767,
   "metadata": {},
   "outputs": [
    {
     "name": "stdout",
     "output_type": "stream",
     "text": [
      "<class 'pandas.core.frame.DataFrame'>\n",
      "Int64Index: 204 entries, 1 to 889\n",
      "Data columns (total 14 columns):\n",
      "Pclass           204 non-null category\n",
      "Sex              204 non-null category\n",
      "Age              204 non-null float64\n",
      "SibSp            204 non-null int64\n",
      "Parch            204 non-null int64\n",
      "Fare             204 non-null float64\n",
      "Embarked         204 non-null category\n",
      "IsAgeNA          204 non-null bool\n",
      "Deck             204 non-null category\n",
      "CabinNum         200 non-null float64\n",
      "Survived         204 non-null category\n",
      "SeveralCabins    204 non-null bool\n",
      "Side             200 non-null category\n",
      "Part             200 non-null category\n",
      "dtypes: bool(2), category(7), float64(3), int64(2)\n",
      "memory usage: 12.3 KB\n"
     ]
    }
   ],
   "source": [
    "first_part.info()"
   ]
  },
  {
   "cell_type": "markdown",
   "metadata": {},
   "source": [
    "Объединим Predict и Train:"
   ]
  },
  {
   "cell_type": "code",
   "execution_count": 768,
   "metadata": {},
   "outputs": [],
   "source": [
    "final = pd.concat([first_part, second_part], ignore_index = True)\n",
    "final.Deck = final.Deck.astype(\"category\")"
   ]
  },
  {
   "cell_type": "code",
   "execution_count": 769,
   "metadata": {},
   "outputs": [
    {
     "data": {
      "text/plain": [
       "Index(['Pclass', 'Sex', 'Age', 'SibSp', 'Parch', 'Fare', 'Embarked', 'IsAgeNA',\n",
       "       'Deck', 'CabinNum', 'Survived', 'SeveralCabins', 'Side', 'Part'],\n",
       "      dtype='object')"
      ]
     },
     "execution_count": 769,
     "metadata": {},
     "output_type": "execute_result"
    }
   ],
   "source": [
    "final.columns"
   ]
  },
  {
   "cell_type": "code",
   "execution_count": 770,
   "metadata": {},
   "outputs": [
    {
     "name": "stdout",
     "output_type": "stream",
     "text": [
      "<class 'pandas.core.frame.DataFrame'>\n",
      "RangeIndex: 891 entries, 0 to 890\n",
      "Data columns (total 14 columns):\n",
      "Pclass           891 non-null category\n",
      "Sex              891 non-null category\n",
      "Age              891 non-null float64\n",
      "SibSp            891 non-null int64\n",
      "Parch            891 non-null int64\n",
      "Fare             891 non-null float64\n",
      "Embarked         891 non-null category\n",
      "IsAgeNA          891 non-null bool\n",
      "Deck             891 non-null category\n",
      "CabinNum         200 non-null float64\n",
      "Survived         891 non-null category\n",
      "SeveralCabins    891 non-null bool\n",
      "Side             200 non-null category\n",
      "Part             679 non-null category\n",
      "dtypes: bool(2), category(7), float64(3), int64(2)\n",
      "memory usage: 43.7 KB\n"
     ]
    }
   ],
   "source": [
    "final.info()"
   ]
  },
  {
   "cell_type": "code",
   "execution_count": 779,
   "metadata": {},
   "outputs": [
    {
     "data": {
      "text/plain": [
       "<matplotlib.axes._subplots.AxesSubplot at 0x1a468d9e10>"
      ]
     },
     "execution_count": 779,
     "metadata": {},
     "output_type": "execute_result"
    },
    {
     "data": {
      "image/png": "[encoded data removed]",
      "text/plain": [
       "<Figure size 432x288 with 1 Axes>"
      ]
     },
     "metadata": {
      "needs_background": "light"
     },
     "output_type": "display_data"
    }
   ],
   "source": [
    "columns_to_drop = ['Survived','CabinNum'] \n",
    "CrossVal_result = cross_val(cv_Num, final, cv_prop, 'FeatureEng', result, columns_to_drop)\n",
    "CrossVal_result['Accuracy'].boxplot()"
   ]
  },
  {
   "cell_type": "code",
   "execution_count": 780,
   "metadata": {},
   "outputs": [],
   "source": [
    "res = CrossVal_result['Accuracy'].copy()"
   ]
  },
  {
   "cell_type": "markdown",
   "metadata": {},
   "source": [
    "# Subgroup Discovery"
   ]
  },
  {
   "cell_type": "code",
   "execution_count": 781,
   "metadata": {},
   "outputs": [],
   "source": [
    "def find_subgroups(db_sg, ignore = ['error'], nom_sel = True)  :\n",
    "    target = ps.NominalTarget(target_selector=ps.NominalSelector('error', nom_sel))\n",
    "    # Интересует именно ошибки, поэтому True\n",
    "    searchSpace = ps.create_selectors(db_sg, ignore= ignore) \n",
    "    # Технически есть ещё Survived, но он нам может подсказать, в каком направлении происходит ошибка, поэтому оставляем\n",
    "    task = ps.SubgroupDiscoveryTask(\n",
    "    db_sg,\n",
    "    target=target,\n",
    "    search_space=searchSpace,\n",
    "    result_set_size = 5, # на выход получаем 5 подгрупп\n",
    "    depth = 3, # Каждая подгруппа описывается не более чем 3 предикатами\n",
    "    qf = ps.StandardQF(1) # Функция качества на базе Chi2\n",
    "    )\n",
    "\n",
    "    return ps.BeamSearch().execute(task)"
   ]
  },
  {
   "cell_type": "code",
   "execution_count": 782,
   "metadata": {},
   "outputs": [
    {
     "data": {
      "text/plain": [
       "count       446\n",
       "unique        2\n",
       "top       False\n",
       "freq        365\n",
       "Name: error, dtype: object"
      ]
     },
     "execution_count": 782,
     "metadata": {},
     "output_type": "execute_result"
    }
   ],
   "source": [
    "db_sg = pd.concat([X_test, y_test], axis = 1)\n",
    "db_sg[\"error\"] = predictions != y_test\n",
    "db_sg.error.describe()\n",
    "#243 верных из 295"
   ]
  },
  {
   "cell_type": "code",
   "execution_count": 783,
   "metadata": {},
   "outputs": [
    {
     "data": {
      "text/plain": [
       "Index(['Pclass', 'Sex', 'Age', 'SibSp', 'Parch', 'Fare', 'Embarked', 'IsAgeNA',\n",
       "       'Deck', 'SeveralCabins', 'Side', 'Part', 'Survived', 'error'],\n",
       "      dtype='object')"
      ]
     },
     "execution_count": 783,
     "metadata": {},
     "output_type": "execute_result"
    }
   ],
   "source": [
    "db_sg.columns"
   ]
  },
  {
   "cell_type": "code",
   "execution_count": 784,
   "metadata": {},
   "outputs": [
    {
     "name": "stdout",
     "output_type": "stream",
     "text": [
      "<class 'pandas.core.frame.DataFrame'>\n",
      "Int64Index: 446 entries, 607 to 450\n",
      "Data columns (total 14 columns):\n",
      "Pclass           446 non-null category\n",
      "Sex              446 non-null category\n",
      "Age              446 non-null float64\n",
      "SibSp            446 non-null int64\n",
      "Parch            446 non-null int64\n",
      "Fare             446 non-null float64\n",
      "Embarked         446 non-null category\n",
      "IsAgeNA          446 non-null bool\n",
      "Deck             446 non-null category\n",
      "SeveralCabins    446 non-null bool\n",
      "Side             87 non-null category\n",
      "Part             333 non-null category\n",
      "Survived         446 non-null category\n",
      "error            446 non-null bool\n",
      "dtypes: bool(3), category(7), float64(2), int64(2)\n",
      "memory usage: 22.7 KB\n"
     ]
    }
   ],
   "source": [
    "db_sg.info()"
   ]
  },
  {
   "cell_type": "markdown",
   "metadata": {},
   "source": [
    "Попробуем описать наблюдения, в которых у нас ошибки с помощью методов SD."
   ]
  },
  {
   "cell_type": "code",
   "execution_count": 785,
   "metadata": {},
   "outputs": [],
   "source": [
    "results = find_subgroups(db_sg)"
   ]
  },
  {
   "cell_type": "code",
   "execution_count": 786,
   "metadata": {},
   "outputs": [
    {
     "name": "stdout",
     "output_type": "stream",
     "text": [
      "0.06300649520400571:\tSurvived=1 AND Sex=male\n",
      "0.05423897524583241:\tSurvived=1 AND Sex=male AND IsAgeNA=False\n",
      "0.050156850127692096:\tSurvived=1 AND SeveralCabins=True AND Sex=male\n",
      "0.04750749059904683:\tSurvived=1 AND Sex=male AND Embarked=S\n",
      "0.04628586941221421:\tSurvived=1 AND Sex=male AND Parch: [0:1[\n"
     ]
    }
   ],
   "source": [
    "for (q,sg) in results:\n",
    "    print(str(q) + \":\\t\" + str(sg.subgroup_description))"
   ]
  },
  {
   "cell_type": "markdown",
   "metadata": {},
   "source": [
    "Модель плохо работает на выживших мужчинах, что вполне логично (в шлюпки сажали в первую очередь женщин)"
   ]
  },
  {
   "cell_type": "code",
   "execution_count": 787,
   "metadata": {},
   "outputs": [
    {
     "data": {
      "text/html": [
       "<div>\n",
       "<style scoped>\n",
       "    .dataframe tbody tr th:only-of-type {\n",
       "        vertical-align: middle;\n",
       "    }\n",
       "\n",
       "    .dataframe tbody tr th {\n",
       "        vertical-align: top;\n",
       "    }\n",
       "\n",
       "    .dataframe thead tr th {\n",
       "        text-align: left;\n",
       "    }\n",
       "\n",
       "    .dataframe thead tr:last-of-type th {\n",
       "        text-align: right;\n",
       "    }\n",
       "</style>\n",
       "<table border=\"1\" class=\"dataframe\">\n",
       "  <thead>\n",
       "    <tr>\n",
       "      <th></th>\n",
       "      <th></th>\n",
       "      <th></th>\n",
       "      <th colspan=\"3\" halign=\"left\">error</th>\n",
       "    </tr>\n",
       "    <tr>\n",
       "      <th></th>\n",
       "      <th></th>\n",
       "      <th></th>\n",
       "      <th>size</th>\n",
       "      <th>sum</th>\n",
       "      <th>mean</th>\n",
       "    </tr>\n",
       "    <tr>\n",
       "      <th>Survived</th>\n",
       "      <th>SeveralCabins</th>\n",
       "      <th>Sex</th>\n",
       "      <th></th>\n",
       "      <th></th>\n",
       "      <th></th>\n",
       "    </tr>\n",
       "  </thead>\n",
       "  <tbody>\n",
       "    <tr>\n",
       "      <th rowspan=\"4\" valign=\"top\">0</th>\n",
       "      <th rowspan=\"2\" valign=\"top\">False</th>\n",
       "      <th>female</th>\n",
       "      <td>3</td>\n",
       "      <td>3.0</td>\n",
       "      <td>1.000000</td>\n",
       "    </tr>\n",
       "    <tr>\n",
       "      <th>male</th>\n",
       "      <td>26</td>\n",
       "      <td>9.0</td>\n",
       "      <td>0.346154</td>\n",
       "    </tr>\n",
       "    <tr>\n",
       "      <th rowspan=\"2\" valign=\"top\">True</th>\n",
       "      <th>female</th>\n",
       "      <td>39</td>\n",
       "      <td>22.0</td>\n",
       "      <td>0.564103</td>\n",
       "    </tr>\n",
       "    <tr>\n",
       "      <th>male</th>\n",
       "      <td>223</td>\n",
       "      <td>2.0</td>\n",
       "      <td>0.008969</td>\n",
       "    </tr>\n",
       "    <tr>\n",
       "      <th rowspan=\"4\" valign=\"top\">1</th>\n",
       "      <th rowspan=\"2\" valign=\"top\">False</th>\n",
       "      <th>female</th>\n",
       "      <td>29</td>\n",
       "      <td>0.0</td>\n",
       "      <td>0.000000</td>\n",
       "    </tr>\n",
       "    <tr>\n",
       "      <th>male</th>\n",
       "      <td>18</td>\n",
       "      <td>9.0</td>\n",
       "      <td>0.500000</td>\n",
       "    </tr>\n",
       "    <tr>\n",
       "      <th rowspan=\"2\" valign=\"top\">True</th>\n",
       "      <th>female</th>\n",
       "      <td>77</td>\n",
       "      <td>8.0</td>\n",
       "      <td>0.103896</td>\n",
       "    </tr>\n",
       "    <tr>\n",
       "      <th>male</th>\n",
       "      <td>31</td>\n",
       "      <td>28.0</td>\n",
       "      <td>0.903226</td>\n",
       "    </tr>\n",
       "  </tbody>\n",
       "</table>\n",
       "</div>"
      ],
      "text/plain": [
       "                              error                \n",
       "                               size   sum      mean\n",
       "Survived SeveralCabins Sex                         \n",
       "0        False         female     3   3.0  1.000000\n",
       "                       male      26   9.0  0.346154\n",
       "         True          female    39  22.0  0.564103\n",
       "                       male     223   2.0  0.008969\n",
       "1        False         female    29   0.0  0.000000\n",
       "                       male      18   9.0  0.500000\n",
       "         True          female    77   8.0  0.103896\n",
       "                       male      31  28.0  0.903226"
      ]
     },
     "execution_count": 787,
     "metadata": {},
     "output_type": "execute_result"
    }
   ],
   "source": [
    "db_sg[[\"Survived\",\"Sex\", \"SeveralCabins\", \"error\"]].groupby([\"Survived\",\"SeveralCabins\", \"Sex\"]).agg([np.size,np.sum,np.mean])"
   ]
  },
  {
   "cell_type": "markdown",
   "metadata": {},
   "source": [
    "Уберем Survived из пространства поиска"
   ]
  },
  {
   "cell_type": "code",
   "execution_count": 788,
   "metadata": {},
   "outputs": [],
   "source": [
    "results = find_subgroups(db_sg, ignore=['error', 'Survived'])"
   ]
  },
  {
   "cell_type": "code",
   "execution_count": 789,
   "metadata": {},
   "outputs": [
    {
     "name": "stdout",
     "output_type": "stream",
     "text": [
      "0.03876510687928572:\tPart=Stern\n",
      "0.03407468479157031:\tPart=Stern AND Pclass=3\n",
      "0.031626415170222605:\tPart=Stern AND Pclass=3 AND Sex=female\n",
      "0.03121920810794506:\tPart=Stern AND Sex=female\n",
      "0.030812001045667513:\tPart=Stern AND SeveralCabins=True\n"
     ]
    }
   ],
   "source": [
    "for (q,sg) in results:\n",
    "    print(str(q) + \":\\t\" + str(sg.subgroup_description))"
   ]
  },
  {
   "cell_type": "code",
   "execution_count": 790,
   "metadata": {},
   "outputs": [
    {
     "data": {
      "text/plain": [
       "Part\n",
       "Bow       334\n",
       "Middle      0\n",
       "Stern     157\n",
       "dtype: int64"
      ]
     },
     "execution_count": 790,
     "metadata": {},
     "output_type": "execute_result"
    }
   ],
   "source": [
    "final.loc[final.Pclass == 3].groupby(['Part']).size()"
   ]
  },
  {
   "cell_type": "markdown",
   "metadata": {},
   "source": [
    "Без переменной Survived выделяются  группы, показывающие, что модель сильно ошибается на пассажирах с кормы из 3 класса"
   ]
  },
  {
   "cell_type": "markdown",
   "metadata": {},
   "source": [
    "Если убрать факт выживания из пространства поиска, показываются круппы \"Корма\"+\"3 класс\", но исторически известно, что 3 класс делили по половому признаку, то есть, группа \"Корма\"+\"3 класс\" - это, по сути, женщины."
   ]
  },
  {
   "cell_type": "markdown",
   "metadata": {},
   "source": [
    "Уберем некоторые признаки из пространства поиска"
   ]
  },
  {
   "cell_type": "code",
   "execution_count": 791,
   "metadata": {},
   "outputs": [],
   "source": [
    "results = find_subgroups(db_sg, ignore=['error', 'Sex', 'Survived', 'Part'])"
   ]
  },
  {
   "cell_type": "code",
   "execution_count": 792,
   "metadata": {},
   "outputs": [
    {
     "name": "stdout",
     "output_type": "stream",
     "text": [
      "0.02185847292324398:\tSibSp: [1:2[\n",
      "0.021008868064911826:\tFare: [10.50:23.25[ AND SibSp: [1:2[ AND SeveralCabins=True\n",
      "0.02060166100263428:\tFare: [10.50:23.25[ AND SibSp: [1:2[\n",
      "0.01960123871382895:\tSibSp: [1:2[ AND Embarked=S\n",
      "0.01897786000120654:\tSide=Left\n"
     ]
    }
   ],
   "source": [
    "for (q,sg) in results:\n",
    "    print(str(q) + \":\\t\" + str(sg.subgroup_description))"
   ]
  },
  {
   "cell_type": "markdown",
   "metadata": {},
   "source": [
    "у людей с 1-2 sibling средняя ошибка выше, чем у других: 0.25"
   ]
  },
  {
   "cell_type": "code",
   "execution_count": 793,
   "metadata": {},
   "outputs": [
    {
     "data": {
      "text/html": [
       "<div>\n",
       "<style scoped>\n",
       "    .dataframe tbody tr th:only-of-type {\n",
       "        vertical-align: middle;\n",
       "    }\n",
       "\n",
       "    .dataframe tbody tr th {\n",
       "        vertical-align: top;\n",
       "    }\n",
       "\n",
       "    .dataframe thead tr th {\n",
       "        text-align: left;\n",
       "    }\n",
       "\n",
       "    .dataframe thead tr:last-of-type th {\n",
       "        text-align: right;\n",
       "    }\n",
       "</style>\n",
       "<table border=\"1\" class=\"dataframe\">\n",
       "  <thead>\n",
       "    <tr>\n",
       "      <th></th>\n",
       "      <th colspan=\"2\" halign=\"left\">Age</th>\n",
       "      <th colspan=\"2\" halign=\"left\">Parch</th>\n",
       "      <th colspan=\"2\" halign=\"left\">Fare</th>\n",
       "      <th colspan=\"2\" halign=\"left\">IsAgeNA</th>\n",
       "      <th colspan=\"2\" halign=\"left\">SeveralCabins</th>\n",
       "      <th colspan=\"2\" halign=\"left\">error</th>\n",
       "    </tr>\n",
       "    <tr>\n",
       "      <th></th>\n",
       "      <th>size</th>\n",
       "      <th>mean</th>\n",
       "      <th>size</th>\n",
       "      <th>mean</th>\n",
       "      <th>size</th>\n",
       "      <th>mean</th>\n",
       "      <th>size</th>\n",
       "      <th>mean</th>\n",
       "      <th>size</th>\n",
       "      <th>mean</th>\n",
       "      <th>size</th>\n",
       "      <th>mean</th>\n",
       "    </tr>\n",
       "    <tr>\n",
       "      <th>SibSp</th>\n",
       "      <th></th>\n",
       "      <th></th>\n",
       "      <th></th>\n",
       "      <th></th>\n",
       "      <th></th>\n",
       "      <th></th>\n",
       "      <th></th>\n",
       "      <th></th>\n",
       "      <th></th>\n",
       "      <th></th>\n",
       "      <th></th>\n",
       "      <th></th>\n",
       "    </tr>\n",
       "  </thead>\n",
       "  <tbody>\n",
       "    <tr>\n",
       "      <th>0</th>\n",
       "      <td>302.0</td>\n",
       "      <td>31.153110</td>\n",
       "      <td>302</td>\n",
       "      <td>0.168874</td>\n",
       "      <td>302.0</td>\n",
       "      <td>25.921230</td>\n",
       "      <td>302</td>\n",
       "      <td>0.228477</td>\n",
       "      <td>302</td>\n",
       "      <td>0.847682</td>\n",
       "      <td>302</td>\n",
       "      <td>0.155629</td>\n",
       "    </tr>\n",
       "    <tr>\n",
       "      <th>1</th>\n",
       "      <td>106.0</td>\n",
       "      <td>29.770827</td>\n",
       "      <td>106</td>\n",
       "      <td>0.632075</td>\n",
       "      <td>106.0</td>\n",
       "      <td>40.126376</td>\n",
       "      <td>106</td>\n",
       "      <td>0.132075</td>\n",
       "      <td>106</td>\n",
       "      <td>0.745283</td>\n",
       "      <td>106</td>\n",
       "      <td>0.273585</td>\n",
       "    </tr>\n",
       "    <tr>\n",
       "      <th>2</th>\n",
       "      <td>17.0</td>\n",
       "      <td>23.788131</td>\n",
       "      <td>17</td>\n",
       "      <td>0.529412</td>\n",
       "      <td>17.0</td>\n",
       "      <td>67.983329</td>\n",
       "      <td>17</td>\n",
       "      <td>0.117647</td>\n",
       "      <td>17</td>\n",
       "      <td>0.823529</td>\n",
       "      <td>17</td>\n",
       "      <td>0.235294</td>\n",
       "    </tr>\n",
       "    <tr>\n",
       "      <th>3</th>\n",
       "      <td>6.0</td>\n",
       "      <td>21.016225</td>\n",
       "      <td>6</td>\n",
       "      <td>1.500000</td>\n",
       "      <td>6.0</td>\n",
       "      <td>65.866683</td>\n",
       "      <td>6</td>\n",
       "      <td>0.500000</td>\n",
       "      <td>6</td>\n",
       "      <td>1.000000</td>\n",
       "      <td>6</td>\n",
       "      <td>0.000000</td>\n",
       "    </tr>\n",
       "    <tr>\n",
       "      <th>4</th>\n",
       "      <td>7.0</td>\n",
       "      <td>6.000000</td>\n",
       "      <td>7</td>\n",
       "      <td>1.428571</td>\n",
       "      <td>7.0</td>\n",
       "      <td>33.080357</td>\n",
       "      <td>7</td>\n",
       "      <td>0.000000</td>\n",
       "      <td>7</td>\n",
       "      <td>1.000000</td>\n",
       "      <td>7</td>\n",
       "      <td>0.142857</td>\n",
       "    </tr>\n",
       "    <tr>\n",
       "      <th>5</th>\n",
       "      <td>4.0</td>\n",
       "      <td>12.500000</td>\n",
       "      <td>4</td>\n",
       "      <td>2.000000</td>\n",
       "      <td>4.0</td>\n",
       "      <td>46.900000</td>\n",
       "      <td>4</td>\n",
       "      <td>0.000000</td>\n",
       "      <td>4</td>\n",
       "      <td>1.000000</td>\n",
       "      <td>4</td>\n",
       "      <td>0.000000</td>\n",
       "    </tr>\n",
       "    <tr>\n",
       "      <th>8</th>\n",
       "      <td>4.0</td>\n",
       "      <td>29.699118</td>\n",
       "      <td>4</td>\n",
       "      <td>2.000000</td>\n",
       "      <td>4.0</td>\n",
       "      <td>69.550000</td>\n",
       "      <td>4</td>\n",
       "      <td>1.000000</td>\n",
       "      <td>4</td>\n",
       "      <td>1.000000</td>\n",
       "      <td>4</td>\n",
       "      <td>0.000000</td>\n",
       "    </tr>\n",
       "  </tbody>\n",
       "</table>\n",
       "</div>"
      ],
      "text/plain": [
       "         Age            Parch             Fare            IsAgeNA            \\\n",
       "        size       mean  size      mean   size       mean    size      mean   \n",
       "SibSp                                                                         \n",
       "0      302.0  31.153110   302  0.168874  302.0  25.921230     302  0.228477   \n",
       "1      106.0  29.770827   106  0.632075  106.0  40.126376     106  0.132075   \n",
       "2       17.0  23.788131    17  0.529412   17.0  67.983329      17  0.117647   \n",
       "3        6.0  21.016225     6  1.500000    6.0  65.866683       6  0.500000   \n",
       "4        7.0   6.000000     7  1.428571    7.0  33.080357       7  0.000000   \n",
       "5        4.0  12.500000     4  2.000000    4.0  46.900000       4  0.000000   \n",
       "8        4.0  29.699118     4  2.000000    4.0  69.550000       4  1.000000   \n",
       "\n",
       "      SeveralCabins           error            \n",
       "               size      mean  size      mean  \n",
       "SibSp                                          \n",
       "0               302  0.847682   302  0.155629  \n",
       "1               106  0.745283   106  0.273585  \n",
       "2                17  0.823529    17  0.235294  \n",
       "3                 6  1.000000     6  0.000000  \n",
       "4                 7  1.000000     7  0.142857  \n",
       "5                 4  1.000000     4  0.000000  \n",
       "8                 4  1.000000     4  0.000000  "
      ]
     },
     "execution_count": 793,
     "metadata": {},
     "output_type": "execute_result"
    }
   ],
   "source": [
    "db_sg.groupby(['SibSp']).agg({np.mean, np.size})"
   ]
  },
  {
   "cell_type": "markdown",
   "metadata": {},
   "source": [
    "Более того, очень высокая ошибка у людей с 1 sibling и заданным интервалом стоимости билета"
   ]
  },
  {
   "cell_type": "code",
   "execution_count": 794,
   "metadata": {},
   "outputs": [
    {
     "data": {
      "text/html": [
       "<div>\n",
       "<style scoped>\n",
       "    .dataframe tbody tr th:only-of-type {\n",
       "        vertical-align: middle;\n",
       "    }\n",
       "\n",
       "    .dataframe tbody tr th {\n",
       "        vertical-align: top;\n",
       "    }\n",
       "\n",
       "    .dataframe thead tr th {\n",
       "        text-align: left;\n",
       "    }\n",
       "\n",
       "    .dataframe thead tr:last-of-type th {\n",
       "        text-align: right;\n",
       "    }\n",
       "</style>\n",
       "<table border=\"1\" class=\"dataframe\">\n",
       "  <thead>\n",
       "    <tr>\n",
       "      <th></th>\n",
       "      <th colspan=\"2\" halign=\"left\">Age</th>\n",
       "      <th colspan=\"2\" halign=\"left\">Parch</th>\n",
       "      <th colspan=\"2\" halign=\"left\">Fare</th>\n",
       "      <th colspan=\"2\" halign=\"left\">IsAgeNA</th>\n",
       "      <th colspan=\"2\" halign=\"left\">SeveralCabins</th>\n",
       "      <th colspan=\"2\" halign=\"left\">error</th>\n",
       "    </tr>\n",
       "    <tr>\n",
       "      <th></th>\n",
       "      <th>size</th>\n",
       "      <th>mean</th>\n",
       "      <th>size</th>\n",
       "      <th>mean</th>\n",
       "      <th>size</th>\n",
       "      <th>mean</th>\n",
       "      <th>size</th>\n",
       "      <th>mean</th>\n",
       "      <th>size</th>\n",
       "      <th>mean</th>\n",
       "      <th>size</th>\n",
       "      <th>mean</th>\n",
       "    </tr>\n",
       "    <tr>\n",
       "      <th>SibSp</th>\n",
       "      <th></th>\n",
       "      <th></th>\n",
       "      <th></th>\n",
       "      <th></th>\n",
       "      <th></th>\n",
       "      <th></th>\n",
       "      <th></th>\n",
       "      <th></th>\n",
       "      <th></th>\n",
       "      <th></th>\n",
       "      <th></th>\n",
       "      <th></th>\n",
       "    </tr>\n",
       "  </thead>\n",
       "  <tbody>\n",
       "    <tr>\n",
       "      <th>0</th>\n",
       "      <td>58.0</td>\n",
       "      <td>33.393043</td>\n",
       "      <td>58</td>\n",
       "      <td>0.258621</td>\n",
       "      <td>58.0</td>\n",
       "      <td>13.150860</td>\n",
       "      <td>58</td>\n",
       "      <td>0.068966</td>\n",
       "      <td>58</td>\n",
       "      <td>0.965517</td>\n",
       "      <td>58</td>\n",
       "      <td>0.189655</td>\n",
       "    </tr>\n",
       "    <tr>\n",
       "      <th>1</th>\n",
       "      <td>33.0</td>\n",
       "      <td>23.763342</td>\n",
       "      <td>33</td>\n",
       "      <td>0.363636</td>\n",
       "      <td>33.0</td>\n",
       "      <td>16.378791</td>\n",
       "      <td>33</td>\n",
       "      <td>0.333333</td>\n",
       "      <td>33</td>\n",
       "      <td>0.939394</td>\n",
       "      <td>33</td>\n",
       "      <td>0.484848</td>\n",
       "    </tr>\n",
       "    <tr>\n",
       "      <th>2</th>\n",
       "      <td>4.0</td>\n",
       "      <td>20.000000</td>\n",
       "      <td>4</td>\n",
       "      <td>0.250000</td>\n",
       "      <td>4.0</td>\n",
       "      <td>17.341650</td>\n",
       "      <td>4</td>\n",
       "      <td>0.000000</td>\n",
       "      <td>4</td>\n",
       "      <td>1.000000</td>\n",
       "      <td>4</td>\n",
       "      <td>0.000000</td>\n",
       "    </tr>\n",
       "  </tbody>\n",
       "</table>\n",
       "</div>"
      ],
      "text/plain": [
       "        Age            Parch            Fare            IsAgeNA            \\\n",
       "       size       mean  size      mean  size       mean    size      mean   \n",
       "SibSp                                                                       \n",
       "0      58.0  33.393043    58  0.258621  58.0  13.150860      58  0.068966   \n",
       "1      33.0  23.763342    33  0.363636  33.0  16.378791      33  0.333333   \n",
       "2       4.0  20.000000     4  0.250000   4.0  17.341650       4  0.000000   \n",
       "\n",
       "      SeveralCabins           error            \n",
       "               size      mean  size      mean  \n",
       "SibSp                                          \n",
       "0                58  0.965517    58  0.189655  \n",
       "1                33  0.939394    33  0.484848  \n",
       "2                 4  1.000000     4  0.000000  "
      ]
     },
     "execution_count": 794,
     "metadata": {},
     "output_type": "execute_result"
    }
   ],
   "source": [
    "db_sg.loc[(db_sg.Fare > 10) & (db_sg.Fare < 23)].groupby(['SibSp']).agg({np.mean, np.size})"
   ]
  },
  {
   "cell_type": "markdown",
   "metadata": {},
   "source": [
    "Добавим эти признаки, и посмотрим, на каком прирост будет больше"
   ]
  },
  {
   "cell_type": "markdown",
   "metadata": {},
   "source": [
    "### Первый набор подгрупп"
   ]
  },
  {
   "cell_type": "markdown",
   "metadata": {},
   "source": [
    "\n",
    "Первую группу не рассматриваем, поскольку в предикатах - целевая переменная\n",
    "\n",
    "    0.06300649520400571:\tSurvived=1 AND Sex=male\n",
    "    0.05423897524583241:\tSurvived=1 AND Sex=male AND IsAgeNA=False\n",
    "    0.050156850127692096:\tSurvived=1 AND SeveralCabins=True AND Sex=male\n",
    "    0.04750749059904683:\tSurvived=1 AND Sex=male AND Embarked=S\n",
    "    0.04628586941221421:\tSurvived=1 AND Sex=male AND Parch: [0:1["
   ]
  },
  {
   "cell_type": "markdown",
   "metadata": {},
   "source": [
    "### Второй набор подгрупп"
   ]
  },
  {
   "cell_type": "markdown",
   "metadata": {},
   "source": [
    "    0.03876510687928572:\tPart=Stern\n",
    "    0.03407468479157031:\tPart=Stern AND Pclass=3\n",
    "    0.031626415170222605:\tPart=Stern AND Pclass=3 AND Sex=female\n",
    "    0.03121920810794506:\tPart=Stern AND Sex=female\n",
    "    0.030812001045667513:\tPart=Stern AND SeveralCabins=True"
   ]
  },
  {
   "cell_type": "markdown",
   "metadata": {},
   "source": [
    "Поочередно будем добавлять признаки, выборочно, не все (1 подгруппа - 1 признак) и смотреть, как меняется качество"
   ]
  },
  {
   "cell_type": "code",
   "execution_count": 795,
   "metadata": {},
   "outputs": [],
   "source": [
    "subgroup2 = pd.Series([((final.loc[x, \"Pclass\"] == 3) & (final.loc[x, \"Part\"] == 'Stern')) for x in range(len(final))])"
   ]
  },
  {
   "cell_type": "code",
   "execution_count": 796,
   "metadata": {},
   "outputs": [],
   "source": [
    "subgroup3 = pd.Series([((final.loc[x, \"Pclass\"] == 3) & (final.loc[x, \"Part\"] == 'Stern') & (final.loc[x, \"Sex\"] == 'female')) for x in range(len(final))])"
   ]
  },
  {
   "cell_type": "code",
   "execution_count": 797,
   "metadata": {},
   "outputs": [],
   "source": [
    "subgroup4 = pd.Series([((final.loc[x, \"Part\"] == 'Stern') & (final.loc[x, \"Sex\"] == 'female')) for x in range(len(final))])"
   ]
  },
  {
   "cell_type": "code",
   "execution_count": 798,
   "metadata": {},
   "outputs": [],
   "source": [
    "subgroup1 = pd.Series([((final.loc[x, \"Part\"] == 'Stern') & (final.loc[x, \"SeveralCabins\"] == True)) for x in range(len(final))])"
   ]
  },
  {
   "cell_type": "markdown",
   "metadata": {},
   "source": [
    "### Третий набор подгрупп"
   ]
  },
  {
   "cell_type": "markdown",
   "metadata": {},
   "source": [
    "    0.02185847292324398:\tSibSp: [1:2[\n",
    "    0.021008868064911826:\tFare: [10.50:23.25[ AND SibSp: [1:2[ AND SeveralCabins=True\n",
    "    0.02060166100263428:\tFare: [10.50:23.25[ AND SibSp: [1:2[\n",
    "    0.01960123871382895:\tSibSp: [1:2[ AND Embarked=S\n",
    "    0.01897786000120654:\tSide=Left"
   ]
  },
  {
   "cell_type": "markdown",
   "metadata": {},
   "source": [
    "Первую и поседнюю подгруппу набора не рассматриваем, т.к. они состоят всего лишь из 1 предиката"
   ]
  },
  {
   "cell_type": "code",
   "execution_count": 801,
   "metadata": {},
   "outputs": [],
   "source": [
    "subgroup5 = pd.Series([((final.loc[x, \"SeveralCabins\"] == True) & (final.loc[x, \"Fare\"] >= 10.5) & (final.loc[x, \"Fare\"] < 23.25) & (final.loc[x, \"SibSp\"] == 1)) for x in range(len(final))])"
   ]
  },
  {
   "cell_type": "code",
   "execution_count": 802,
   "metadata": {},
   "outputs": [],
   "source": [
    "subgroup6 = pd.Series([((final.loc[x, \"Fare\"] >= 10.5) & (final.loc[x, \"Fare\"] < 23.25) & (final.loc[x, \"SibSp\"] == 1)) for x in range(len(final))])"
   ]
  },
  {
   "cell_type": "code",
   "execution_count": 803,
   "metadata": {},
   "outputs": [],
   "source": [
    "subgroup7 = pd.Series([((final.loc[x, \"SibSp\"] == 1) & (final.loc[x, \"Embarked\"] == 'S')) for x in range(len(final))])"
   ]
  },
  {
   "cell_type": "code",
   "execution_count": 818,
   "metadata": {},
   "outputs": [],
   "source": [
    "list_of_features = [subgroup1, subgroup2, subgroup3, subgroup4, subgroup5, subgroup6, subgroup7]\n",
    "list_of_names = ['subgroup1', 'subgroup2', 'subgroup3', 'subgroup4', 'subgroup5', 'subgroup6', 'subgroup7']\n",
    "columns_to_drop = ['Survived','CabinNum'] \n",
    "\n",
    "for i in range(0,7) :\n",
    "    df = pd.concat([final, list_of_features[i]], axis = 1)\n",
    "    CrossVal_result= cross_val(cv_Num, df, cv_prop, list_of_names[i], result, columns_to_drop)"
   ]
  },
  {
   "cell_type": "code",
   "execution_count": 820,
   "metadata": {},
   "outputs": [],
   "source": [
    "result = CrossVal_result['Accuracy']"
   ]
  },
  {
   "cell_type": "code",
   "execution_count": 821,
   "metadata": {},
   "outputs": [],
   "source": [
    "final2 = pd.concat([final, subgroup1, subgroup2, subgroup3, subgroup4, subgroup5, subgroup6, subgroup7], axis = 1)\n",
    "final2 = final2.rename({0: 'subgroup1', 1: 'subgroup2', 2: 'subgroup3', 3: 'subgroup4', 4: 'subgroup5' , \n",
    "               5: 'subgroup6', 6: 'subgroup7'}, axis = 1)"
   ]
  },
  {
   "cell_type": "code",
   "execution_count": 832,
   "metadata": {},
   "outputs": [],
   "source": [
    "columns_to_drop = ['Survived','CabinNum'] \n",
    "CrossVal_results_SD1 = cross_val(cv_Num, final2, cv_prop, 'SD1', result, columns_to_drop)"
   ]
  },
  {
   "cell_type": "code",
   "execution_count": 1229,
   "metadata": {},
   "outputs": [
    {
     "data": {
      "image/png": "[encoded data removed]",
      "text/plain": [
       "<Figure size 1080x720 with 1 Axes>"
      ]
     },
     "metadata": {},
     "output_type": "display_data"
    }
   ],
   "source": [
    "return_plot(CrossVal_results_SD1['Accuracy'].iloc[:,2:-1], 'First Subgroup Discovery experiment', file_name = 'SD1.eps' )"
   ]
  },
  {
   "cell_type": "code",
   "execution_count": 834,
   "metadata": {},
   "outputs": [],
   "source": [
    "result = CrossVal_results_SD1['Accuracy']"
   ]
  },
  {
   "cell_type": "code",
   "execution_count": 1281,
   "metadata": {},
   "outputs": [
    {
     "data": {
      "image/png": "[encoded data removed]",
      "text/plain": [
       "<Figure size 1080x576 with 1 Axes>"
      ]
     },
     "metadata": {},
     "output_type": "display_data"
    }
   ],
   "source": [
    "#построим график коэффицентов регрессоров в модели SD1\n",
    "\n",
    "\n",
    "labels  = pd.get_dummies(CrossVal_results_SD1['X_test'], dummy_na=True).columns\n",
    "values = CrossVal_results_SD1['Coefs'][0]\n",
    "\n",
    "df = pd.DataFrame({'Features' : labels , 'Coefs' : values})\n",
    "df = df.sort_values('Coefs')\n",
    "\n",
    "fig, ax = plt.subplots(figsize=(15, 8))\n",
    "df.plot(kind='bar', x='Features', y='Coefs', ax=ax)\n",
    "\n",
    "\n",
    "\n",
    "#x = np.arange(len(labels))  # the label locations\n",
    "\n",
    "#rects1 = ax.bar(x, CrossVal_results_SD1['Coefs'][0] )\n",
    "\n",
    "\n",
    "\n",
    "# Add some text for labels, title and custom x-axis tick labels, etc.\n",
    "ax.set_ylabel('Coefs')\n",
    "ax.set_title('Coeffs of the features in the Logistic Regression')\n",
    "\n",
    "\n",
    "plt.savefig(\"Coefs.eps\", format='eps')\n",
    "plt.show()\n",
    "\n",
    "#Generally, positive coefficients make the event more likely and negative coefficients make the event less likely.\n",
    "#An estimated coefficient near 0 implies that the effect of the predictor is small."
   ]
  },
  {
   "cell_type": "code",
   "execution_count": 836,
   "metadata": {},
   "outputs": [],
   "source": [
    "final3 =  pd.concat([final, subgroup1, subgroup6, subgroup7, subgroup3], axis = 1)\n",
    "final3 = final3.rename({0: 'subgroup1', 1: 'subgroup6', 2: 'subgroup7', 3: 'subgroup3'}, axis = 1)"
   ]
  },
  {
   "cell_type": "code",
   "execution_count": null,
   "metadata": {},
   "outputs": [],
   "source": [
    "columns_to_drop = ['Survived','CabinNum', 'Deck',  'IsAgeNA', 'Parch'] \n",
    "CrossVal_results_SD2 = cross_val(cv_Num, final3, cv_prop, 'SD2', result, columns_to_drop)"
   ]
  },
  {
   "cell_type": "code",
   "execution_count": 1235,
   "metadata": {},
   "outputs": [
    {
     "data": {
      "image/png": "[encoded data removed]",
      "text/plain": [
       "<Figure size 1080x720 with 1 Axes>"
      ]
     },
     "metadata": {},
     "output_type": "display_data"
    }
   ],
   "source": [
    "return_plot(CrossVal_results_SD1['Accuracy'][['BaseModel', 'FeatureEng', 'SD1', 'SD2']], 'Second Subgroup Discovery experiment', file_name = 'SD2.eps' )"
   ]
  },
  {
   "cell_type": "code",
   "execution_count": 846,
   "metadata": {},
   "outputs": [],
   "source": [
    "result = CrossVal_results_SD2['Accuracy']"
   ]
  },
  {
   "cell_type": "code",
   "execution_count": 1335,
   "metadata": {},
   "outputs": [
    {
     "data": {
      "image/png": "[encoded data removed]",
      "text/plain": [
       "<Figure size 1080x576 with 1 Axes>"
      ]
     },
     "metadata": {},
     "output_type": "display_data"
    }
   ],
   "source": [
    "#построим график коэффицентов регрессоров в модели SD3\n",
    "labels  = pd.get_dummies(CrossVal_results_SD2['X_test'].drop(columns = 'error'), dummy_na=True).columns\n",
    "values = CrossVal_results_SD2['Coefs'][0]\n",
    "\n",
    "df = pd.DataFrame({'Features' : labels , 'Coefs' : values})\n",
    "df = df.sort_values('Coefs')\n",
    "\n",
    "fig, ax = plt.subplots(figsize=(15, 8))\n",
    "df.plot(kind='bar', x='Features', y='Coefs', ax=ax)\n",
    "\n",
    "# Add some text for labels, title and custom x-axis tick labels, etc.\n",
    "ax.set_ylabel('Coefs')\n",
    "ax.set_title('Coeffs of the features in the Logistic Regression')\n",
    "\n",
    "plt.savefig('Coefs2.eps', format='eps')\n",
    "plt.show()\n",
    "\n",
    "#Generally, positive coefficients make the event more likely and negative coefficients make the event less likely.\n",
    "#An estimated coefficient near 0 implies that the effect of the predictor is small.\n",
    "\n"
   ]
  },
  {
   "cell_type": "code",
   "execution_count": 1336,
   "metadata": {},
   "outputs": [
    {
     "data": {
      "text/html": [
       "<div>\n",
       "<style scoped>\n",
       "    .dataframe tbody tr th:only-of-type {\n",
       "        vertical-align: middle;\n",
       "    }\n",
       "\n",
       "    .dataframe tbody tr th {\n",
       "        vertical-align: top;\n",
       "    }\n",
       "\n",
       "    .dataframe thead th {\n",
       "        text-align: right;\n",
       "    }\n",
       "</style>\n",
       "<table border=\"1\" class=\"dataframe\">\n",
       "  <thead>\n",
       "    <tr style=\"text-align: right;\">\n",
       "      <th></th>\n",
       "      <th>Features</th>\n",
       "      <th>Coefs</th>\n",
       "    </tr>\n",
       "  </thead>\n",
       "  <tbody>\n",
       "    <tr>\n",
       "      <th>7</th>\n",
       "      <td>subgroup3</td>\n",
       "      <td>-1.154383</td>\n",
       "    </tr>\n",
       "    <tr>\n",
       "      <th>13</th>\n",
       "      <td>Sex_male</td>\n",
       "      <td>-0.952192</td>\n",
       "    </tr>\n",
       "    <tr>\n",
       "      <th>0</th>\n",
       "      <td>Age</td>\n",
       "      <td>-0.566672</td>\n",
       "    </tr>\n",
       "    <tr>\n",
       "      <th>1</th>\n",
       "      <td>SibSp</td>\n",
       "      <td>-0.505703</td>\n",
       "    </tr>\n",
       "    <tr>\n",
       "      <th>23</th>\n",
       "      <td>Part_Middle</td>\n",
       "      <td>-0.304995</td>\n",
       "    </tr>\n",
       "    <tr>\n",
       "      <th>3</th>\n",
       "      <td>SeveralCabins</td>\n",
       "      <td>-0.284135</td>\n",
       "    </tr>\n",
       "    <tr>\n",
       "      <th>10</th>\n",
       "      <td>Pclass_3.0</td>\n",
       "      <td>-0.271706</td>\n",
       "    </tr>\n",
       "    <tr>\n",
       "      <th>21</th>\n",
       "      <td>Side_nan</td>\n",
       "      <td>-0.150215</td>\n",
       "    </tr>\n",
       "    <tr>\n",
       "      <th>17</th>\n",
       "      <td>Embarked_S</td>\n",
       "      <td>-0.137798</td>\n",
       "    </tr>\n",
       "    <tr>\n",
       "      <th>25</th>\n",
       "      <td>Part_nan</td>\n",
       "      <td>-0.066037</td>\n",
       "    </tr>\n",
       "    <tr>\n",
       "      <th>19</th>\n",
       "      <td>Side_Left</td>\n",
       "      <td>-0.009642</td>\n",
       "    </tr>\n",
       "    <tr>\n",
       "      <th>11</th>\n",
       "      <td>Pclass_nan</td>\n",
       "      <td>0.000000</td>\n",
       "    </tr>\n",
       "    <tr>\n",
       "      <th>14</th>\n",
       "      <td>Sex_nan</td>\n",
       "      <td>0.000000</td>\n",
       "    </tr>\n",
       "    <tr>\n",
       "      <th>18</th>\n",
       "      <td>Embarked_nan</td>\n",
       "      <td>0.000000</td>\n",
       "    </tr>\n",
       "    <tr>\n",
       "      <th>22</th>\n",
       "      <td>Part_Bow</td>\n",
       "      <td>0.030021</td>\n",
       "    </tr>\n",
       "    <tr>\n",
       "      <th>9</th>\n",
       "      <td>Pclass_2.0</td>\n",
       "      <td>0.030515</td>\n",
       "    </tr>\n",
       "    <tr>\n",
       "      <th>15</th>\n",
       "      <td>Embarked_C</td>\n",
       "      <td>0.078358</td>\n",
       "    </tr>\n",
       "    <tr>\n",
       "      <th>6</th>\n",
       "      <td>subgroup7</td>\n",
       "      <td>0.093328</td>\n",
       "    </tr>\n",
       "    <tr>\n",
       "      <th>16</th>\n",
       "      <td>Embarked_Q</td>\n",
       "      <td>0.108956</td>\n",
       "    </tr>\n",
       "    <tr>\n",
       "      <th>2</th>\n",
       "      <td>Fare</td>\n",
       "      <td>0.115813</td>\n",
       "    </tr>\n",
       "    <tr>\n",
       "      <th>4</th>\n",
       "      <td>subgroup1</td>\n",
       "      <td>0.161187</td>\n",
       "    </tr>\n",
       "    <tr>\n",
       "      <th>5</th>\n",
       "      <td>subgroup6</td>\n",
       "      <td>0.174366</td>\n",
       "    </tr>\n",
       "    <tr>\n",
       "      <th>20</th>\n",
       "      <td>Side_Right</td>\n",
       "      <td>0.200551</td>\n",
       "    </tr>\n",
       "    <tr>\n",
       "      <th>24</th>\n",
       "      <td>Part_Stern</td>\n",
       "      <td>0.260670</td>\n",
       "    </tr>\n",
       "    <tr>\n",
       "      <th>8</th>\n",
       "      <td>Pclass_1.0</td>\n",
       "      <td>0.285894</td>\n",
       "    </tr>\n",
       "    <tr>\n",
       "      <th>12</th>\n",
       "      <td>Sex_female</td>\n",
       "      <td>0.952192</td>\n",
       "    </tr>\n",
       "  </tbody>\n",
       "</table>\n",
       "</div>"
      ],
      "text/plain": [
       "         Features     Coefs\n",
       "7       subgroup3 -1.154383\n",
       "13       Sex_male -0.952192\n",
       "0             Age -0.566672\n",
       "1           SibSp -0.505703\n",
       "23    Part_Middle -0.304995\n",
       "3   SeveralCabins -0.284135\n",
       "10     Pclass_3.0 -0.271706\n",
       "21       Side_nan -0.150215\n",
       "17     Embarked_S -0.137798\n",
       "25       Part_nan -0.066037\n",
       "19      Side_Left -0.009642\n",
       "11     Pclass_nan  0.000000\n",
       "14        Sex_nan  0.000000\n",
       "18   Embarked_nan  0.000000\n",
       "22       Part_Bow  0.030021\n",
       "9      Pclass_2.0  0.030515\n",
       "15     Embarked_C  0.078358\n",
       "6       subgroup7  0.093328\n",
       "16     Embarked_Q  0.108956\n",
       "2            Fare  0.115813\n",
       "4       subgroup1  0.161187\n",
       "5       subgroup6  0.174366\n",
       "20     Side_Right  0.200551\n",
       "24     Part_Stern  0.260670\n",
       "8      Pclass_1.0  0.285894\n",
       "12     Sex_female  0.952192"
      ]
     },
     "execution_count": 1336,
     "metadata": {},
     "output_type": "execute_result"
    }
   ],
   "source": [
    "df"
   ]
  },
  {
   "cell_type": "markdown",
   "metadata": {},
   "source": [
    "### Subgroup discovery 2 раунд"
   ]
  },
  {
   "cell_type": "markdown",
   "metadata": {},
   "source": [
    "Возьмем тестовую часть из датасета final2 (содержит в себе все подгруппы) и проведем поиск подгруп subgroup discovery еще раз"
   ]
  },
  {
   "cell_type": "code",
   "execution_count": 847,
   "metadata": {},
   "outputs": [],
   "source": [
    "dataX = CrossVal_results_SD2['X_test'] #dataset\n",
    "y_true = CrossVal_results_SD2['y_test'] \n",
    "y_pred = CrossVal_results_SD2['Preds'] "
   ]
  },
  {
   "cell_type": "code",
   "execution_count": 849,
   "metadata": {},
   "outputs": [],
   "source": [
    "dataX['error'] = [1 if y_true[i] != y_pred[i] else 0 for i in range(len(y_true))]"
   ]
  },
  {
   "cell_type": "markdown",
   "metadata": {},
   "source": [
    "### Первый набор подгрупп"
   ]
  },
  {
   "cell_type": "code",
   "execution_count": 850,
   "metadata": {},
   "outputs": [
    {
     "name": "stdout",
     "output_type": "stream",
     "text": [
      "0.01828912706871242:\tSeveralCabins=False\n",
      "0.01828912706871242:\tSeveralCabins=False AND subgroup1=False\n",
      "0.016841279736170032:\tSeveralCabins=False AND subgroup1=False AND subgroup6=False\n",
      "0.016841279736170032:\tSeveralCabins=False AND subgroup6=False\n",
      "0.016429045426210057:\tFare: [11.50:23.0[ AND Embarked=S\n"
     ]
    }
   ],
   "source": [
    "results = find_subgroups(dataX)\n",
    "for (q,sg) in results:\n",
    "    print(str(q) + \":\\t\" + str(sg.subgroup_description))"
   ]
  },
  {
   "cell_type": "markdown",
   "metadata": {},
   "source": [
    "subgroup1 = (Part == Stern) & (SeveralCabins == True)\n",
    "\n",
    "В подгруппе 1 уже учтен признак SeveralCabins, то есть сочетание (SeveralCabins=False AND subgroup1=False) не приносит новой информации. Разве что Part != Stern"
   ]
  },
  {
   "cell_type": "markdown",
   "metadata": {},
   "source": [
    "subgroup6 = (10.5 < Fare > 23.25) & (SibSp == 1)\n",
    "\n",
    "Сочетание (SeveralCabins=False AND subgroup6=False) означает, что кол-во siblings != 1 и Fare не в промежутке от 10.5 и 23.25, и нет нескольких кабин"
   ]
  },
  {
   "cell_type": "code",
   "execution_count": 1238,
   "metadata": {},
   "outputs": [],
   "source": [
    "subgroup10 = pd.Series([((final2.loc[x, \"subgroup6\"] == False) & (final2.loc[x, \"SeveralCabins\"] == False) ) for x in range(len(final2))])"
   ]
  },
  {
   "cell_type": "markdown",
   "metadata": {},
   "source": [
    "Также используем подгруппу (Fare: [11.50:23.0[ AND Embarked=S )"
   ]
  },
  {
   "cell_type": "code",
   "execution_count": 852,
   "metadata": {},
   "outputs": [],
   "source": [
    "subgroup11 = pd.Series([((final2.loc[x, \"Fare\"] >= 11.5) & (final2.loc[x, \"Fare\"] < 23) & (final2.loc[x, \"Embarked\"] == 'S') ) for x in range(len(final2))])"
   ]
  },
  {
   "cell_type": "markdown",
   "metadata": {},
   "source": [
    "### Второй набор подгрупп"
   ]
  },
  {
   "cell_type": "code",
   "execution_count": 854,
   "metadata": {},
   "outputs": [
    {
     "name": "stdout",
     "output_type": "stream",
     "text": [
      "0.016429045426210057:\tFare: [11.50:23.0[ AND Embarked=S\n",
      "0.015775503227493007:\tPart=Stern AND Sex=female\n",
      "0.015302941945343759:\tFare: [11.50:23.0[\n",
      "0.01455890928834281:\tSibSp: [1:2[ AND subgroup7=True\n",
      "0.01455890928834281:\tsubgroup7=True\n"
     ]
    }
   ],
   "source": [
    "results = find_subgroups(dataX, ignore = ['error', 'SeveralCabins'])\n",
    "for (q,sg) in results:\n",
    "    print(str(q) + \":\\t\" + str(sg.subgroup_description))"
   ]
  },
  {
   "cell_type": "markdown",
   "metadata": {},
   "source": [
    "Сочетание (Fare: [11.50:23.0[ AND Embarked=S) уже добавлено в subgroup11\n",
    "\n",
    "Сочетание Part=Stern AND Sex=female было ранее в subgroup4, но из-за небольшого коэффициента было исключено. Вернем"
   ]
  },
  {
   "cell_type": "markdown",
   "metadata": {},
   "source": [
    "Добавим признак  Fare: [11.50:23.0["
   ]
  },
  {
   "cell_type": "code",
   "execution_count": 859,
   "metadata": {},
   "outputs": [],
   "source": [
    "subgroup12 = pd.Series([((final2.loc[x, \"Fare\"] >= 11.5) & (final2.loc[x, \"Fare\"] < 23) ) for x in range(len(final2))])"
   ]
  },
  {
   "cell_type": "markdown",
   "metadata": {},
   "source": [
    "В подгруппе subgroup7 уже учтено SibSp=1,поэтому сочетание (SibSp: [1:2[ AND subgroup7=True) не приносит новой информации"
   ]
  },
  {
   "cell_type": "markdown",
   "metadata": {},
   "source": [
    "### Третий набор подгрупп"
   ]
  },
  {
   "cell_type": "code",
   "execution_count": 861,
   "metadata": {},
   "outputs": [
    {
     "name": "stdout",
     "output_type": "stream",
     "text": [
      "0.01455890928834281:\tSibSp: [1:2[ AND Embarked=S AND subgroup7=True\n",
      "0.01455890928834281:\tSibSp: [1:2[ AND Embarked=S\n",
      "0.01455890928834281:\tSibSp: [1:2[ AND subgroup7=True\n",
      "0.01455890928834281:\tsubgroup7=True\n",
      "0.01455890928834281:\tsubgroup7=True AND Embarked=S\n"
     ]
    }
   ],
   "source": [
    "results = find_subgroups(dataX, ignore = ['error', 'SeveralCabins', 'Fare', 'Part', 'Sex'])\n",
    "for (q,sg) in results:\n",
    "    print(str(q) + \":\\t\" + str(sg.subgroup_description))"
   ]
  },
  {
   "cell_type": "markdown",
   "metadata": {},
   "source": [
    "В подгруппе subgroup7 уже учтено,  что SibSp=1 и Embarked = S"
   ]
  },
  {
   "cell_type": "code",
   "execution_count": 863,
   "metadata": {},
   "outputs": [
    {
     "name": "stdout",
     "output_type": "stream",
     "text": [
      "0.01455890928834281:\tsubgroup7=True\n",
      "0.013674113696233583:\tsubgroup3=True\n",
      "0.013674113696233583:\tsubgroup3=True AND Pclass=3\n",
      "0.0108789639847976:\tsubgroup7=True AND subgroup6=True\n",
      "0.01045667517947274:\tsubgroup6=True\n"
     ]
    }
   ],
   "source": [
    "results = find_subgroups(dataX, ignore = ['error', 'SeveralCabins', 'Fare', 'Part', 'Sex', 'SibSp', 'Embarked'])\n",
    "for (q,sg) in results:\n",
    "    print(str(q) + \":\\t\" + str(sg.subgroup_description))"
   ]
  },
  {
   "cell_type": "markdown",
   "metadata": {},
   "source": [
    "Сочетание (subgroup3=True AND Pclass=3) не приносит новой информации, тк класс уже учтен в подгруппе subgroup3"
   ]
  },
  {
   "cell_type": "code",
   "execution_count": 865,
   "metadata": {},
   "outputs": [],
   "source": [
    "subgroup13 = pd.Series([((final2.loc[x, \"subgroup7\"] == True) & (final2.loc[x, \"subgroup6\"] == True) ) for x in range(len(final2))])"
   ]
  },
  {
   "cell_type": "code",
   "execution_count": 1273,
   "metadata": {},
   "outputs": [],
   "source": [
    "cols = list(set(CrossVal_results_SD2['X_test'].columns[:-1]) ^ set(['Survived','CabinNum'])) ## [:-1] - не берем колонку error"
   ]
  },
  {
   "cell_type": "code",
   "execution_count": 1274,
   "metadata": {},
   "outputs": [],
   "source": [
    "dataSD3 = final2[cols] "
   ]
  },
  {
   "cell_type": "code",
   "execution_count": 889,
   "metadata": {},
   "outputs": [],
   "source": [
    "#в переменной res сейчас только два столбика: BaseModel и FeatureEng\n",
    "#добавим результаты SD1 SD2  в res\n",
    "res = result[['BaseModel', 'FeatureEng', 'SD1', 'SD2']].copy()"
   ]
  },
  {
   "cell_type": "code",
   "execution_count": 1275,
   "metadata": {},
   "outputs": [],
   "source": [
    "#поочередно добавляем новые признаки (со второго раунда) и смотрим, что меняется\n",
    "list_of_features = [subgroup10, subgroup11, subgroup12, subgroup13]\n",
    "list_of_names = ['subgroup10', 'subgroup11', 'subgroup12', 'subgroup13']\n",
    "columns_to_drop = ['Survived','CabinNum'] \n",
    "\n",
    "for i in range(0,4) :\n",
    "    df = pd.concat([dataSD3, list_of_features[i]], axis = 1)\n",
    "    CrossVal_result= cross_val(cv_Num, df, cv_prop, list_of_names[i], res, columns_to_drop)"
   ]
  },
  {
   "cell_type": "code",
   "execution_count": 1278,
   "metadata": {},
   "outputs": [
    {
     "data": {
      "image/png": "[encoded data removed]",
      "text/plain": [
       "<Figure size 1080x720 with 1 Axes>"
      ]
     },
     "metadata": {},
     "output_type": "display_data"
    }
   ],
   "source": [
    "return_plot(CrossVal_result['Accuracy'][['SD2', 'subgroup10', 'subgroup11', 'subgroup12', 'subgroup13']] ,  'Third Subgroup Discovery experiment', file_name = 'SD3_2.eps'  )"
   ]
  },
  {
   "cell_type": "code",
   "execution_count": 1239,
   "metadata": {},
   "outputs": [],
   "source": [
    "final4 = pd.concat([final2[cols], subgroup4, subgroup10, subgroup11, subgroup12, subgroup13], axis = 1)\n",
    "final4 = final4.rename({0: 'subgroup4', 1: 'subgroup10', 2: 'subgroup11', 3: 'subgroup12', 4: 'subgroup13'}, axis = 1)"
   ]
  },
  {
   "cell_type": "code",
   "execution_count": 1265,
   "metadata": {},
   "outputs": [],
   "source": [
    "columns_to_drop = ['Survived','CabinNum'] \n",
    "CrossVal_results_SD3 = cross_val(cv_Num, final4, cv_prop, 'SD3', res, columns_to_drop)"
   ]
  },
  {
   "cell_type": "code",
   "execution_count": 1272,
   "metadata": {},
   "outputs": [
    {
     "data": {
      "image/png": "[encoded data removed]",
      "text/plain": [
       "<Figure size 1080x720 with 1 Axes>"
      ]
     },
     "metadata": {},
     "output_type": "display_data"
    }
   ],
   "source": [
    "return_plot(CrossVal_results_SD3['Accuracy'][['BaseModel', 'FeatureEng', 'SD1', 'SD2', 'SD3']] ,  'Third Subgroup Discovery experiment', file_name = 'SD3.eps'  )"
   ]
  },
  {
   "cell_type": "code",
   "execution_count": 1334,
   "metadata": {},
   "outputs": [
    {
     "data": {
      "text/plain": [
       "Index(['Age', 'SibSp', 'Fare', 'SeveralCabins', 'subgroup1', 'subgroup6',\n",
       "       'subgroup7', 'subgroup3', 'error', 'Pclass_1.0', 'Pclass_2.0',\n",
       "       'Pclass_3.0', 'Pclass_nan', 'Sex_female', 'Sex_male', 'Sex_nan',\n",
       "       'Embarked_C', 'Embarked_Q', 'Embarked_S', 'Embarked_nan', 'Side_Left',\n",
       "       'Side_Right', 'Side_nan', 'Part_Bow', 'Part_Middle', 'Part_Stern',\n",
       "       'Part_nan'],\n",
       "      dtype='object')"
      ]
     },
     "execution_count": 1334,
     "metadata": {},
     "output_type": "execute_result"
    }
   ],
   "source": [
    "labels"
   ]
  },
  {
   "cell_type": "code",
   "execution_count": 1323,
   "metadata": {},
   "outputs": [
    {
     "data": {
      "image/png": "[encoded data removed]",
      "text/plain": [
       "<Figure size 1080x576 with 1 Axes>"
      ]
     },
     "metadata": {},
     "output_type": "display_data"
    }
   ],
   "source": [
    "#построим график коэффицентов регрессоров в модели SD3\n",
    "labels  = pd.get_dummies(CrossVal_results_SD3['X_test'], dummy_na=True).columns\n",
    "values = CrossVal_results_SD3['Coefs'][0]\n",
    "\n",
    "df = pd.DataFrame({'Features' : labels , 'Coefs' : values})\n",
    "df = df.sort_values('Coefs')\n",
    "\n",
    "fig, ax = plt.subplots(figsize=(15, 8))\n",
    "df.plot(kind='bar', x='Features', y='Coefs', ax=ax)\n",
    "\n",
    "# Add some text for labels, title and custom x-axis tick labels, etc.\n",
    "ax.set_ylabel('Coefs')\n",
    "ax.set_title('Coeffs of the features in the Logistic Regression')\n",
    "\n",
    "plt.savefig('Coefs2.eps', format='eps')\n",
    "plt.show()\n",
    "\n",
    "#Generally, positive coefficients make the event more likely and negative coefficients make the event less likely.\n",
    "#An estimated coefficient near 0 implies that the effect of the predictor is small."
   ]
  },
  {
   "cell_type": "code",
   "execution_count": 1324,
   "metadata": {},
   "outputs": [
    {
     "data": {
      "text/html": [
       "<div>\n",
       "<style scoped>\n",
       "    .dataframe tbody tr th:only-of-type {\n",
       "        vertical-align: middle;\n",
       "    }\n",
       "\n",
       "    .dataframe tbody tr th {\n",
       "        vertical-align: top;\n",
       "    }\n",
       "\n",
       "    .dataframe thead th {\n",
       "        text-align: right;\n",
       "    }\n",
       "</style>\n",
       "<table border=\"1\" class=\"dataframe\">\n",
       "  <thead>\n",
       "    <tr style=\"text-align: right;\">\n",
       "      <th></th>\n",
       "      <th>Features</th>\n",
       "      <th>Coefs</th>\n",
       "    </tr>\n",
       "  </thead>\n",
       "  <tbody>\n",
       "    <tr>\n",
       "      <th>25</th>\n",
       "      <td>Sex_male</td>\n",
       "      <td>-0.972941</td>\n",
       "    </tr>\n",
       "    <tr>\n",
       "      <th>5</th>\n",
       "      <td>subgroup3</td>\n",
       "      <td>-0.711435</td>\n",
       "    </tr>\n",
       "    <tr>\n",
       "      <th>0</th>\n",
       "      <td>Age</td>\n",
       "      <td>-0.578038</td>\n",
       "    </tr>\n",
       "    <tr>\n",
       "      <th>8</th>\n",
       "      <td>subgroup4</td>\n",
       "      <td>-0.526418</td>\n",
       "    </tr>\n",
       "    <tr>\n",
       "      <th>3</th>\n",
       "      <td>SibSp</td>\n",
       "      <td>-0.509654</td>\n",
       "    </tr>\n",
       "    <tr>\n",
       "      <th>21</th>\n",
       "      <td>Part_Middle</td>\n",
       "      <td>-0.307172</td>\n",
       "    </tr>\n",
       "    <tr>\n",
       "      <th>6</th>\n",
       "      <td>SeveralCabins</td>\n",
       "      <td>-0.291286</td>\n",
       "    </tr>\n",
       "    <tr>\n",
       "      <th>18</th>\n",
       "      <td>Pclass_3.0</td>\n",
       "      <td>-0.227184</td>\n",
       "    </tr>\n",
       "    <tr>\n",
       "      <th>29</th>\n",
       "      <td>Embarked_S</td>\n",
       "      <td>-0.142729</td>\n",
       "    </tr>\n",
       "    <tr>\n",
       "      <th>15</th>\n",
       "      <td>Side_nan</td>\n",
       "      <td>-0.120900</td>\n",
       "    </tr>\n",
       "    <tr>\n",
       "      <th>12</th>\n",
       "      <td>subgroup13</td>\n",
       "      <td>-0.093964</td>\n",
       "    </tr>\n",
       "    <tr>\n",
       "      <th>11</th>\n",
       "      <td>subgroup12</td>\n",
       "      <td>-0.055699</td>\n",
       "    </tr>\n",
       "    <tr>\n",
       "      <th>13</th>\n",
       "      <td>Side_Left</td>\n",
       "      <td>-0.044230</td>\n",
       "    </tr>\n",
       "    <tr>\n",
       "      <th>20</th>\n",
       "      <td>Part_Bow</td>\n",
       "      <td>-0.030755</td>\n",
       "    </tr>\n",
       "    <tr>\n",
       "      <th>23</th>\n",
       "      <td>Part_nan</td>\n",
       "      <td>-0.029232</td>\n",
       "    </tr>\n",
       "    <tr>\n",
       "      <th>17</th>\n",
       "      <td>Pclass_2.0</td>\n",
       "      <td>-0.023941</td>\n",
       "    </tr>\n",
       "    <tr>\n",
       "      <th>26</th>\n",
       "      <td>Sex_nan</td>\n",
       "      <td>0.000000</td>\n",
       "    </tr>\n",
       "    <tr>\n",
       "      <th>19</th>\n",
       "      <td>Pclass_nan</td>\n",
       "      <td>0.000000</td>\n",
       "    </tr>\n",
       "    <tr>\n",
       "      <th>30</th>\n",
       "      <td>Embarked_nan</td>\n",
       "      <td>0.000000</td>\n",
       "    </tr>\n",
       "    <tr>\n",
       "      <th>10</th>\n",
       "      <td>subgroup11</td>\n",
       "      <td>0.007302</td>\n",
       "    </tr>\n",
       "    <tr>\n",
       "      <th>9</th>\n",
       "      <td>subgroup10</td>\n",
       "      <td>0.041199</td>\n",
       "    </tr>\n",
       "    <tr>\n",
       "      <th>27</th>\n",
       "      <td>Embarked_C</td>\n",
       "      <td>0.086724</td>\n",
       "    </tr>\n",
       "    <tr>\n",
       "      <th>4</th>\n",
       "      <td>subgroup7</td>\n",
       "      <td>0.095474</td>\n",
       "    </tr>\n",
       "    <tr>\n",
       "      <th>28</th>\n",
       "      <td>Embarked_Q</td>\n",
       "      <td>0.106242</td>\n",
       "    </tr>\n",
       "    <tr>\n",
       "      <th>7</th>\n",
       "      <td>subgroup1</td>\n",
       "      <td>0.108977</td>\n",
       "    </tr>\n",
       "    <tr>\n",
       "      <th>1</th>\n",
       "      <td>Fare</td>\n",
       "      <td>0.120977</td>\n",
       "    </tr>\n",
       "    <tr>\n",
       "      <th>14</th>\n",
       "      <td>Side_Right</td>\n",
       "      <td>0.197344</td>\n",
       "    </tr>\n",
       "    <tr>\n",
       "      <th>16</th>\n",
       "      <td>Pclass_1.0</td>\n",
       "      <td>0.284495</td>\n",
       "    </tr>\n",
       "    <tr>\n",
       "      <th>2</th>\n",
       "      <td>subgroup6</td>\n",
       "      <td>0.289284</td>\n",
       "    </tr>\n",
       "    <tr>\n",
       "      <th>22</th>\n",
       "      <td>Part_Stern</td>\n",
       "      <td>0.303164</td>\n",
       "    </tr>\n",
       "    <tr>\n",
       "      <th>24</th>\n",
       "      <td>Sex_female</td>\n",
       "      <td>0.972941</td>\n",
       "    </tr>\n",
       "  </tbody>\n",
       "</table>\n",
       "</div>"
      ],
      "text/plain": [
       "         Features     Coefs\n",
       "25       Sex_male -0.972941\n",
       "5       subgroup3 -0.711435\n",
       "0             Age -0.578038\n",
       "8       subgroup4 -0.526418\n",
       "3           SibSp -0.509654\n",
       "21    Part_Middle -0.307172\n",
       "6   SeveralCabins -0.291286\n",
       "18     Pclass_3.0 -0.227184\n",
       "29     Embarked_S -0.142729\n",
       "15       Side_nan -0.120900\n",
       "12     subgroup13 -0.093964\n",
       "11     subgroup12 -0.055699\n",
       "13      Side_Left -0.044230\n",
       "20       Part_Bow -0.030755\n",
       "23       Part_nan -0.029232\n",
       "17     Pclass_2.0 -0.023941\n",
       "26        Sex_nan  0.000000\n",
       "19     Pclass_nan  0.000000\n",
       "30   Embarked_nan  0.000000\n",
       "10     subgroup11  0.007302\n",
       "9      subgroup10  0.041199\n",
       "27     Embarked_C  0.086724\n",
       "4       subgroup7  0.095474\n",
       "28     Embarked_Q  0.106242\n",
       "7       subgroup1  0.108977\n",
       "1            Fare  0.120977\n",
       "14     Side_Right  0.197344\n",
       "16     Pclass_1.0  0.284495\n",
       "2       subgroup6  0.289284\n",
       "22     Part_Stern  0.303164\n",
       "24     Sex_female  0.972941"
      ]
     },
     "execution_count": 1324,
     "metadata": {},
     "output_type": "execute_result"
    }
   ],
   "source": [
    "df"
   ]
  },
  {
   "cell_type": "markdown",
   "metadata": {},
   "source": [
    "До этого мы искали подгруппы только среди наблюдений, на которых произошла ошибка. Попробуем найти подгруппы, на которых ошибки не было."
   ]
  },
  {
   "cell_type": "markdown",
   "metadata": {},
   "source": [
    "### Subgroup discovery 3 раунд"
   ]
  },
  {
   "cell_type": "code",
   "execution_count": 973,
   "metadata": {},
   "outputs": [
    {
     "name": "stdout",
     "output_type": "stream",
     "text": [
      "0.03191296828812164:\tSeveralCabins=True AND subgroup6=False AND subgroup3=False\n",
      "0.03158116994108068:\tsubgroup7=False AND subgroup3=False AND SeveralCabins=True\n",
      "0.02938928995153733:\tSeveralCabins=True AND subgroup1=False AND subgroup6=False\n",
      "0.02920830903496954:\tsubgroup7=False AND SeveralCabins=True\n",
      "0.029057491604496378:\tSeveralCabins=True AND subgroup1=False AND subgroup7=False\n"
     ]
    }
   ],
   "source": [
    "results = find_subgroups(dataX, ignore = ['error'], nom_sel = False)\n",
    "for (q,sg) in results:\n",
    "    print(str(q) + \":\\t\" + str(sg.subgroup_description))"
   ]
  },
  {
   "cell_type": "code",
   "execution_count": 974,
   "metadata": {},
   "outputs": [],
   "source": [
    "subgroup14 = pd.Series([((final2.loc[x, \"SeveralCabins\"] == True) & (final2.loc[x, \"subgroup6\"] == False) & (final2.loc[x, \"subgroup3\"] == False)) for x in range(len(final2))])"
   ]
  },
  {
   "cell_type": "code",
   "execution_count": 975,
   "metadata": {},
   "outputs": [],
   "source": [
    "subgroup15 = pd.Series([((final2.loc[x, \"subgroup7\"] == False) & (final2.loc[x, \"subgroup3\"] == False) & (final2.loc[x, \"SeveralCabins\"] == True)) for x in range(len(final2))])"
   ]
  },
  {
   "cell_type": "code",
   "execution_count": 976,
   "metadata": {},
   "outputs": [],
   "source": [
    "subgroup16 = pd.Series([((final2.loc[x, \"SeveralCabins\"] == True) & (final2.loc[x, \"subgroup1\"] == False) & (final2.loc[x, \"subgroup6\"] == False)) for x in range(len(final2))])"
   ]
  },
  {
   "cell_type": "code",
   "execution_count": 977,
   "metadata": {},
   "outputs": [],
   "source": [
    "subgroup17 = pd.Series([((final2.loc[x, \"subgroup7\"] == False) & (final2.loc[x, \"SeveralCabins\"] == True)) for x in range(len(final2))])"
   ]
  },
  {
   "cell_type": "code",
   "execution_count": 978,
   "metadata": {},
   "outputs": [],
   "source": [
    "subgroup18 = pd.Series([((final2.loc[x, \"SeveralCabins\"] == True) & (final2.loc[x, \"subgroup1\"] == False) & (final2.loc[x, \"subgroup7\"] == False)) for x in range(len(final2))])"
   ]
  },
  {
   "cell_type": "code",
   "execution_count": 1288,
   "metadata": {},
   "outputs": [],
   "source": [
    "res = result[['BaseModel', 'FeatureEng', 'SD1', 'SD2', 'SD3']].copy()"
   ]
  },
  {
   "cell_type": "code",
   "execution_count": 1297,
   "metadata": {},
   "outputs": [],
   "source": [
    "#поочередно добавляем новые признаки (со третьего раунда) и смотрим, что меняется\n",
    "list_of_features = [subgroup14, subgroup15, subgroup16, subgroup17, subgroup18]\n",
    "list_of_names = ['subgroup14', 'subgroup15', 'subgroup16', 'subgroup17', 'subgroup18']\n",
    "columns_to_drop = ['Survived','CabinNum'] \n",
    "\n",
    "for i in range(0,5) :\n",
    "    df = pd.concat([final3, list_of_features[i]], axis = 1)\n",
    "    CrossVal_result= cross_val(cv_Num, df, cv_prop, list_of_names[i], res, columns_to_drop)"
   ]
  },
  {
   "cell_type": "code",
   "execution_count": 1302,
   "metadata": {},
   "outputs": [
    {
     "data": {
      "image/png": "[encoded data removed]",
      "text/plain": [
       "<Figure size 1080x720 with 1 Axes>"
      ]
     },
     "metadata": {},
     "output_type": "display_data"
    }
   ],
   "source": [
    "return_plot(CrossVal_result['Accuracy'][['SD3', 'subgroup14', 'subgroup15', 'subgroup16', 'subgroup17', 'subgroup18']],  'Forth Subgroup Discovery experiment', file_name = 'SD4_2.eps'  )"
   ]
  },
  {
   "cell_type": "code",
   "execution_count": 1304,
   "metadata": {},
   "outputs": [],
   "source": [
    "res = result[['BaseModel', 'FeatureEng', 'SD1', 'SD2', 'SD3']].copy()"
   ]
  },
  {
   "cell_type": "code",
   "execution_count": 1305,
   "metadata": {},
   "outputs": [],
   "source": [
    "final5 = pd.concat([final3, subgroup14, subgroup15, subgroup16, subgroup17, subgroup18], axis = 1)\n",
    "final5 = final5.rename({0: 'subgroup14', 1: 'subgroup15', 2: 'subgroup16', 3: 'subgroup17', 4: 'subgroup18'}, axis = 1)"
   ]
  },
  {
   "cell_type": "code",
   "execution_count": 1318,
   "metadata": {},
   "outputs": [],
   "source": [
    "columns_to_drop = ['Survived','CabinNum'] \n",
    "CrossVal_results_SD4 = cross_val(cv_Num, final5, cv_prop, 'SD4', res, columns_to_drop)"
   ]
  },
  {
   "cell_type": "code",
   "execution_count": 1320,
   "metadata": {},
   "outputs": [
    {
     "data": {
      "image/png": "[encoded data removed]",
      "text/plain": [
       "<Figure size 1080x720 with 1 Axes>"
      ]
     },
     "metadata": {},
     "output_type": "display_data"
    }
   ],
   "source": [
    "result = CrossVal_results_SD4['Accuracy']\n",
    "return_plot(CrossVal_results_SD4['Accuracy'],  'Forth Subgroup Discovery experiment', file_name = 'SD4.eps'  )"
   ]
  },
  {
   "cell_type": "code",
   "execution_count": 1321,
   "metadata": {},
   "outputs": [
    {
     "data": {
      "text/plain": [
       "BaseModel     0.793722\n",
       "FeatureEng    0.811996\n",
       "SD1           0.820291\n",
       "SD2           0.826009\n",
       "SD3           0.825224\n",
       "SD4           0.815359\n",
       "dtype: float64"
      ]
     },
     "execution_count": 1321,
     "metadata": {},
     "output_type": "execute_result"
    }
   ],
   "source": [
    "result.mean()"
   ]
  },
  {
   "cell_type": "code",
   "execution_count": 1300,
   "metadata": {},
   "outputs": [],
   "source": [
    "def return_plot(df, name, file_name) :\n",
    "    # Set your custom color palette\n",
    "    #colors = [\"#24509A\", \"#A33E2E\",  \"#E78E2E\", \"#56AF40\", \"#D0941F\", \"#8D6CAB\"] #вспомогательные вышкинские корпоративные цвета\n",
    "    colors = [\"#d9d9d9\", \"#d9e6ff\", \"#b3ccff\", \"#8cb3ff\", \"#6699ff\", \"#4080ff\", \"#24509A\", '#003380', '#333333', ] #вышкинские корпоративные цвета\n",
    "    _ = plt.figure(figsize=(15,10))\n",
    "    _ = sns.set_style(\"whitegrid\")\n",
    "    _ = sns.set_palette(sns.color_palette(colors))\n",
    "\n",
    "\n",
    "    #построим красивые графики\n",
    "\n",
    "    ax = sns.boxplot(data=df, orient = 'v')\n",
    "    ax = sns.swarmplot(data=df, color=\".25\")\n",
    "    ax.set_ylabel('Accuracy', fontsize=20, color = \"#4080ff\")\n",
    "    ax.set_xlabel('Models', fontsize=20, color = \"#4080ff\")\n",
    "    ax.set_title(name, fontsize=30, color = \"#4080ff\")\n",
    "    ax.tick_params(labelsize=20)\n",
    "    plt.savefig(file_name, format='eps')\n",
    "    plt.show()"
   ]
  },
  {
   "cell_type": "code",
   "execution_count": 1216,
   "metadata": {},
   "outputs": [
    {
     "data": {
      "image/png": "[encoded data removed]",
      "text/plain": [
       "<Figure size 1080x720 with 1 Axes>"
      ]
     },
     "metadata": {},
     "output_type": "display_data"
    }
   ],
   "source": [
    "#График, на котором показана первая базовая модель \n",
    "#и модель после добавления признаков, выявленных после анализа предметной области\n",
    "return_plot(result[['BaseModel', 'FeatureEng']], 'Base model and Model after feature engineering for the Titanic task', file_name = 'first2models_acc.eps' )"
   ]
  },
  {
   "cell_type": "code",
   "execution_count": 1217,
   "metadata": {},
   "outputs": [
    {
     "data": {
      "image/png": "[encoded data removed]",
      "text/plain": [
       "<Figure size 1080x720 with 1 Axes>"
      ]
     },
     "metadata": {},
     "output_type": "display_data"
    }
   ],
   "source": [
    "#График, на котором собраны все полученные модели\n",
    "return_plot(result, 'Cross-validation model accuracy for the Titanic task', file_name = 'allmodels_acc.eps' )"
   ]
  },
  {
   "cell_type": "code",
   "execution_count": null,
   "metadata": {},
   "outputs": [],
   "source": []
  }
 ],
 "metadata": {
  "kernelspec": {
   "display_name": "Python 3",
   "language": "python",
   "name": "python3"
  },
  "language_info": {
   "codemirror_mode": {
    "name": "ipython",
    "version": 3
   },
   "file_extension": ".py",
   "mimetype": "text/x-python",
   "name": "python",
   "nbconvert_exporter": "python",
   "pygments_lexer": "ipython3",
   "version": "3.7.1"
  }
 },
 "nbformat": 4,
 "nbformat_minor": 2
}
